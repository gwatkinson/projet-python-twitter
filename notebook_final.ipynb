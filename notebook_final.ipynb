{
 "metadata": {
  "language_info": {
   "codemirror_mode": {
    "name": "ipython",
    "version": 3
   },
   "file_extension": ".py",
   "mimetype": "text/x-python",
   "name": "python",
   "nbconvert_exporter": "python",
   "pygments_lexer": "ipython3",
   "version": "3.8.5-final"
  },
  "orig_nbformat": 2,
  "kernelspec": {
   "name": "python3",
   "display_name": "Python 3"
  }
 },
 "nbformat": 4,
 "nbformat_minor": 2,
 "cells": [
  {
   "source": [
    "# Projet de programmation"
   ],
   "cell_type": "markdown",
   "metadata": {}
  },
  {
   "source": [
    "## Introduction <a name=\"intro\"></a>"
   ],
   "cell_type": "markdown",
   "metadata": {}
  },
  {
   "source": [
    "Il faut récupèrer le projet avec : \n",
    "\n",
    "    git clone https://github.com/gwatkinson/projet-python-twitter.git\n",
    "\n",
    "Puis, il faut créer le fichier `projet/credentials.py`, qui contient les clés de l'API de Twitter.\n",
    "\n",
    "Dans le format suivant :\n",
    "\n",
    "```python\n",
    "credentials = {\n",
    "    \"consumer_key\": \"XXXXXXX\",\n",
    "    \"consumer_secret\": \"XXXXXXX\",\n",
    "    \"access_token\": \"XXXXXXX\",\n",
    "    \"access_token_secret\": \"XXXXXXX\",\n",
    "}\n",
    "```\n",
    "\n",
    "Finalement, il suffit d'executer les cellules de ce notebook dans l'ordre."
   ],
   "cell_type": "markdown",
   "metadata": {}
  },
  {
   "source": [
    "## Table des matières\n",
    "\n",
    "* [Introduction](#intro)\n",
    "* [1)Récupération des données](#data)\n",
    "* [2)Modélisation](#model)\n",
    "    * [a.Prepocessing](#process)\n",
    "    * [b.Clustering](#cluster)\n",
    "* [3)Visualisation](#visu)\n",
    "    * [a.Nuages de mots](#cloud)\n",
    "    * [b.Carte interactive](#map)\n",
    "* [Conclusion](#conc)\n",
    "* [Annexes](#annex)"
   ],
   "cell_type": "markdown",
   "metadata": {}
  },
  {
   "source": [
    "## 1) Récupération des données <a name=\"data\"></a>\n",
    "\n"
   ],
   "cell_type": "markdown",
   "metadata": {}
  },
  {
   "source": [
    "Nous avons utilisé l'**API** de Twitter pour récupérer les nouveaux tweets publiés sur Twitter, la nuit du 3 au 4 Novembre 2020 (la nuit de l'éléction américaine). Nous avons seulement récupérer les tweets qui contennaient certains mots :"
   ],
   "cell_type": "markdown",
   "metadata": {}
  },
  {
   "cell_type": "code",
   "execution_count": 2,
   "metadata": {},
   "outputs": [],
   "source": [
    "# Liste 3 sur Trump et Biden uniquement\n",
    "liste_3 = [\n",
    "    \"biden\",\n",
    "    \"trump\",\n",
    "    \"JoeBiden\",\n",
    "    \"realDonaldTrump\",\n",
    "]\n",
    "\n",
    "# Liste 4 sur le thème 'vote'\n",
    "liste_4 = [\n",
    "    \"iwillvote\",\n",
    "    \"govote\",\n",
    "    \"uselection\",\n",
    "    \"vote\",\n",
    "]\n",
    "\n",
    "# Liste 5 sur le thème 'election'\n",
    "liste_5 = [\n",
    "    \"uselection\",\n",
    "    \"president\",\n",
    "    \"presidentialelection\",\n",
    "    \"presidential\",\n",
    "    \"electionnight\",\n",
    "]"
   ]
  },
  {
   "source": [
    "Pour cela, nous avons utilisé le module python `tweepy` ainsi que les fonctions codées dans le module `streaming` (voir la documentation pour plus d'information sur [`start_stream`](https://gwatkinson.github.io/projet-python-twitter/streaming.html#projet_python_twitter.streaming.start_stream)). Voici un exemple d'utilisation du code que nous avons écrit :"
   ],
   "cell_type": "markdown",
   "metadata": {}
  },
  {
   "cell_type": "code",
   "execution_count": 3,
   "metadata": {},
   "outputs": [
    {
     "output_type": "stream",
     "name": "stdout",
     "text": [
      "Début du stream\n",
      "WARNING: Limitation notice received, tweets missed: 66\n",
      "WARNING: Limitation notice received, tweets missed: 129\n",
      "WARNING: Limitation notice received, tweets missed: 191\n",
      "Progress: [------------------->] 100 %\n",
      "Les 200 tweets ont été récupérés.\n",
      "Le stream a duré : 0.0h\n",
      "Fin du stream\n"
     ]
    }
   ],
   "source": [
    "import projet.streaming as stream                           # Contient les fonctions pour le streaming\n",
    "import projet.listes_mots as listes                         # Contient les listes de mots\n",
    "import projet._credentials as cred                          # Contient les clés d'authentification à l'API\n",
    "\n",
    "credentials = stream.CredentialsClass(cred.credentials)     # Pour se connecter à l'API (il faut le fichier projet/_credentials.py)\n",
    "\n",
    "stream.start_stream(\n",
    "    credentials=credentials,\n",
    "    liste_mots=listes.liste_3,                              # Liste des mots à tracker (voir `projet.listes_mots`)\n",
    "    nb=200,                                                 # Nombre de tweets à recupérer\n",
    "    # timeout=10/3600,                                        # Durée du stream\n",
    "    fprefix=\"exemple_liste_3\",                              # À modifier en fonction de la liste selectionnée\n",
    "    path=\"./data/json/\",                                    # À modifier selon l'utilisateur (doit finir par \"/\" ou \"\\\")\n",
    "    verbose=True,\n",
    ")"
   ]
  },
  {
   "source": [
    "Un fichier `json` a été créé dans `data/json/`.\n",
    "\n",
    "Pour voir à quoi ressemble les données :"
   ],
   "cell_type": "markdown",
   "metadata": {}
  },
  {
   "cell_type": "code",
   "execution_count": 4,
   "metadata": {
    "tags": []
   },
   "outputs": [
    {
     "output_type": "stream",
     "name": "stdout",
     "text": [
      "On regarde le fichier : data\\json\\exemple_liste_3_20201210-171541.json\n\nLe premier tweet :\n{'created_at': 'Thu Dec 10 16:15:36 +0000 2020', 'id': 1337068459008507908, 'id_str': '1337068459008507908', 'text': 'RT @JohnJosephRath4: @TheOfficerTatum @burt_j @realDonaldTrump Me as well!!', 'source': '<a href=\"http://twitter.com/download/iphone\" rel=\"nofollow\">Twitter for iPhone</a>', 'truncated': False, 'in_reply_to_status_id': None, 'in_reply_to_status_id_str': None, 'in_reply_to_user_id': None, 'in_reply_to_user_id_str': None, 'in_reply_to_screen_name': None, 'user': {'id': 132292378, 'id_str': '132292378', 'name': 'Burt Jurgens', 'screen_name': 'burt_j', 'location': 'Portland, OR', 'url': 'https://www.youtube.com/channel/UCfsllJSXNwVb8mrGj-S7byA', 'description': 'Former marine and deputy sheriff, fake news researcher #Trump2020 #DigitalSoldiers #SemperFi #WalkAway #MAGA #WWG1WGA #AllGloryToGod #OathKeeper #MidnightRider', 'translator_type': 'none', 'protected': False, 'verified': False, 'followers_count': 2848, 'friends_count': 4235, 'listed_count': 0, 'favourites_count': 59698, 'statuses_count': 45338, 'created_at': 'Mon Apr 12 20:59:33 +0000 2010', 'utc_offset': None, 'time_zone': None, 'geo_enabled': False, 'lang': None, 'contributors_enabled': False, 'is_translator': False, 'profile_background_color': 'C0DEED', 'profile_background_image_url': 'http://abs.twimg.com/images/themes/theme1/bg.png', 'profile_background_image_url_https': 'https://abs.twimg.com/images/themes/theme1/bg.png', 'profile_background_tile': False, 'profile_link_color': '1DA1F2', 'profile_sidebar_border_color': 'C0DEED', 'profile_sidebar_fill_color': 'DDEEF6', 'profile_text_color': '333333', 'profile_use_background_image': True, 'profile_image_url': 'http://pbs.twimg.com/profile_images/1262236876590559234/8PfAk1Op_normal.jpg', 'profile_image_url_https': 'https://pbs.twimg.com/profile_images/1262236876590559234/8PfAk1Op_normal.jpg', 'profile_banner_url': 'https://pbs.twimg.com/profile_banners/132292378/1605403600', 'default_profile': True, 'default_profile_image': False, 'following': None, 'follow_request_sent': None, 'notifications': None}, 'geo': None, 'coordinates': None, 'place': None, 'contributors': None, 'retweeted_status': {'created_at': 'Thu Dec 10 09:36:20 +0000 2020', 'id': 1336967978873741313, 'id_str': '1336967978873741313', 'text': '@TheOfficerTatum @burt_j @realDonaldTrump Me as well!!', 'display_text_range': [42, 54], 'source': '<a href=\"http://twitter.com/download/android\" rel=\"nofollow\">Twitter for Android</a>', 'truncated': False, 'in_reply_to_status_id': 1336754033608953856, 'in_reply_to_status_id_str': '1336754033608953856', 'in_reply_to_user_id': 2480268229, 'in_reply_to_user_id_str': '2480268229', 'in_reply_to_screen_name': 'TheOfficerTatum', 'user': {'id': 953660329355030528, 'id_str': '953660329355030528', 'name': 'President Elect.John Rath#47', 'screen_name': 'JohnJosephRath4', 'location': 'New Jersey, USA', 'url': None, 'description': \"MAGA,NRA, TRUMP 2020 \\n#47 Hamilton Ti-Cats LB 6 years Retired Incompetent Canadian/ Socialist Dr's botched 3 knee surgeries.1 surgery NYC. HSS complete repair.\", 'translator_type': 'none', 'protected': False, 'verified': False, 'followers_count': 1149, 'friends_count': 1795, 'listed_count': 0, 'favourites_count': 6025, 'statuses_count': 3727, 'created_at': 'Wed Jan 17 16:08:35 +0000 2018', 'utc_offset': None, 'time_zone': None, 'geo_enabled': True, 'lang': None, 'contributors_enabled': False, 'is_translator': False, 'profile_background_color': 'F5F8FA', 'profile_background_image_url': '', 'profile_background_image_url_https': '', 'profile_background_tile': False, 'profile_link_color': '1DA1F2', 'profile_sidebar_border_color': 'C0DEED', 'profile_sidebar_fill_color': 'DDEEF6', 'profile_text_color': '333333', 'profile_use_background_image': True, 'profile_image_url': 'http://pbs.twimg.com/profile_images/1132729035358920705/OX6lxDA4_normal.jpg', 'profile_image_url_https': 'https://pbs.twimg.com/profile_images/1132729035358920705/OX6lxDA4_normal.jpg', 'profile_banner_url': 'https://pbs.twimg.com/profile_banners/953660329355030528/1604611414', 'default_profile': True, 'default_profile_image': False, 'following': None, 'follow_request_sent': None, 'notifications': None}, 'geo': None, 'coordinates': None, 'place': None, 'contributors': None, 'is_quote_status': False, 'quote_count': 0, 'reply_count': 0, 'retweet_count': 1, 'favorite_count': 0, 'entities': {'hashtags': [], 'urls': [], 'user_mentions': [{'screen_name': 'TheOfficerTatum', 'name': 'Brandon Tatum', 'id': 2480268229, 'id_str': '2480268229', 'indices': [0, 16]}, {'screen_name': 'burt_j', 'name': 'Burt Jurgens', 'id': 132292378, 'id_str': '132292378', 'indices': [17, 24]}, {'screen_name': 'realDonaldTrump', 'name': 'Donald J. Trump', 'id': 25073877, 'id_str': '25073877', 'indices': [25, 41]}], 'symbols': []}, 'favorited': False, 'retweeted': False, 'filter_level': 'low', 'lang': 'en'}, 'is_quote_status': False, 'quote_count': 0, 'reply_count': 0, 'retweet_count': 0, 'favorite_count': 0, 'entities': {'hashtags': [], 'urls': [], 'user_mentions': [{'screen_name': 'JohnJosephRath4', 'name': 'President Elect.John Rath#47', 'id': 953660329355030528, 'id_str': '953660329355030528', 'indices': [3, 19]}, {'screen_name': 'TheOfficerTatum', 'name': 'Brandon Tatum', 'id': 2480268229, 'id_str': '2480268229', 'indices': [21, 37]}, {'screen_name': 'burt_j', 'name': 'Burt Jurgens', 'id': 132292378, 'id_str': '132292378', 'indices': [38, 45]}, {'screen_name': 'realDonaldTrump', 'name': 'Donald J. Trump', 'id': 25073877, 'id_str': '25073877', 'indices': [46, 62]}], 'symbols': []}, 'favorited': False, 'retweeted': False, 'filter_level': 'low', 'lang': 'en', 'timestamp_ms': '1607616936815'}\n"
     ]
    }
   ],
   "source": [
    "import glob\n",
    "import json\n",
    "import pandas as pd\n",
    "\n",
    "path = glob.glob(\"data\\\\json\\\\exemple_liste_3*.json\")[-1]  # On récupère le dernier fichier exemple crée\n",
    "print(\"On regarde le fichier : \"+path+\"\\n\")\n",
    "\n",
    "tweets_list = []\n",
    "with open(path, \"r\") as fh:\n",
    "    file = fh.read().split(\"\\n\")\n",
    "    for line in file:\n",
    "        if line:\n",
    "            tweets_list.append(json.loads(line))\n",
    "\n",
    "print(\"Le premier tweet :\")\n",
    "print(tweets_list[0])\n"
   ]
  },
  {
   "source": [
    "Il s'agit du format `json`. Il est difficile de voir les variable comme cela. On peut créer une `dataframe pandas` pour mieux comprendre les données."
   ],
   "cell_type": "markdown",
   "metadata": {}
  },
  {
   "cell_type": "code",
   "execution_count": 5,
   "metadata": {},
   "outputs": [
    {
     "output_type": "execute_result",
     "data": {
      "text/plain": [
       "                       created_at                   id               id_str  \\\n",
       "0  Thu Dec 10 16:15:36 +0000 2020  1337068459008507908  1337068459008507908   \n",
       "1  Thu Dec 10 16:15:36 +0000 2020  1337068458920448001  1337068458920448001   \n",
       "2  Thu Dec 10 16:15:36 +0000 2020  1337068458832515072  1337068458832515072   \n",
       "3  Thu Dec 10 16:15:36 +0000 2020  1337068458740158469  1337068458740158469   \n",
       "4  Thu Dec 10 16:15:36 +0000 2020  1337068459117617152  1337068459117617152   \n",
       "\n",
       "                                                text  \\\n",
       "0  RT @JohnJosephRath4: @TheOfficerTatum @burt_j ...   \n",
       "1  @realDonaldTrump @OANN 1:51.  You have lost ag...   \n",
       "2  RT @SeanAKehoe: The only way President Trump’s...   \n",
       "3  RT @realDonaldTrump: Voter Fraud! https://t.co...   \n",
       "4  RT @PastorDScott: Why would Hunter Biden be un...   \n",
       "\n",
       "                                              source  truncated  \\\n",
       "0  <a href=\"http://twitter.com/download/iphone\" r...      False   \n",
       "1  <a href=\"https://mobile.twitter.com\" rel=\"nofo...      False   \n",
       "2  <a href=\"http://twitter.com/download/android\" ...      False   \n",
       "3  <a href=\"https://mobile.twitter.com\" rel=\"nofo...      False   \n",
       "4  <a href=\"http://twitter.com/download/iphone\" r...      False   \n",
       "\n",
       "   in_reply_to_status_id in_reply_to_status_id_str  in_reply_to_user_id  \\\n",
       "0                    NaN                      None                  NaN   \n",
       "1           1.337043e+18       1337042714924380166           25073877.0   \n",
       "2                    NaN                      None                  NaN   \n",
       "3                    NaN                      None                  NaN   \n",
       "4                    NaN                      None                  NaN   \n",
       "\n",
       "  in_reply_to_user_id_str  ... lang   timestamp_ms display_text_range  \\\n",
       "0                    None  ...   en  1607616936815                NaN   \n",
       "1                25073877  ...   en  1607616936794           [23, 60]   \n",
       "2                    None  ...   en  1607616936773                NaN   \n",
       "3                    None  ...   fr  1607616936751                NaN   \n",
       "4                    None  ...   en  1607616936841                NaN   \n",
       "\n",
       "  quoted_status_id quoted_status_id_str  \\\n",
       "0              NaN                  NaN   \n",
       "1              NaN                  NaN   \n",
       "2              NaN                  NaN   \n",
       "3     1.334962e+18  1334962273861951491   \n",
       "4              NaN                  NaN   \n",
       "\n",
       "                                       quoted_status  \\\n",
       "0                                                NaN   \n",
       "1                                                NaN   \n",
       "2                                                NaN   \n",
       "3  {'created_at': 'Fri Dec 04 20:46:23 +0000 2020...   \n",
       "4                                                NaN   \n",
       "\n",
       "                             quoted_status_permalink  possibly_sensitive  \\\n",
       "0                                                NaN                 NaN   \n",
       "1                                                NaN                 NaN   \n",
       "2                                                NaN                 NaN   \n",
       "3  {'url': 'https://t.co/6mLqg6rmIZ', 'expanded':...               False   \n",
       "4                                                NaN                 NaN   \n",
       "\n",
       "   extended_tweet  extended_entities  \n",
       "0             NaN                NaN  \n",
       "1             NaN                NaN  \n",
       "2             NaN                NaN  \n",
       "3             NaN                NaN  \n",
       "4             NaN                NaN  \n",
       "\n",
       "[5 rows x 36 columns]"
      ],
      "text/html": "<div>\n<style scoped>\n    .dataframe tbody tr th:only-of-type {\n        vertical-align: middle;\n    }\n\n    .dataframe tbody tr th {\n        vertical-align: top;\n    }\n\n    .dataframe thead th {\n        text-align: right;\n    }\n</style>\n<table border=\"1\" class=\"dataframe\">\n  <thead>\n    <tr style=\"text-align: right;\">\n      <th></th>\n      <th>created_at</th>\n      <th>id</th>\n      <th>id_str</th>\n      <th>text</th>\n      <th>source</th>\n      <th>truncated</th>\n      <th>in_reply_to_status_id</th>\n      <th>in_reply_to_status_id_str</th>\n      <th>in_reply_to_user_id</th>\n      <th>in_reply_to_user_id_str</th>\n      <th>...</th>\n      <th>lang</th>\n      <th>timestamp_ms</th>\n      <th>display_text_range</th>\n      <th>quoted_status_id</th>\n      <th>quoted_status_id_str</th>\n      <th>quoted_status</th>\n      <th>quoted_status_permalink</th>\n      <th>possibly_sensitive</th>\n      <th>extended_tweet</th>\n      <th>extended_entities</th>\n    </tr>\n  </thead>\n  <tbody>\n    <tr>\n      <th>0</th>\n      <td>Thu Dec 10 16:15:36 +0000 2020</td>\n      <td>1337068459008507908</td>\n      <td>1337068459008507908</td>\n      <td>RT @JohnJosephRath4: @TheOfficerTatum @burt_j ...</td>\n      <td>&lt;a href=\"http://twitter.com/download/iphone\" r...</td>\n      <td>False</td>\n      <td>NaN</td>\n      <td>None</td>\n      <td>NaN</td>\n      <td>None</td>\n      <td>...</td>\n      <td>en</td>\n      <td>1607616936815</td>\n      <td>NaN</td>\n      <td>NaN</td>\n      <td>NaN</td>\n      <td>NaN</td>\n      <td>NaN</td>\n      <td>NaN</td>\n      <td>NaN</td>\n      <td>NaN</td>\n    </tr>\n    <tr>\n      <th>1</th>\n      <td>Thu Dec 10 16:15:36 +0000 2020</td>\n      <td>1337068458920448001</td>\n      <td>1337068458920448001</td>\n      <td>@realDonaldTrump @OANN 1:51.  You have lost ag...</td>\n      <td>&lt;a href=\"https://mobile.twitter.com\" rel=\"nofo...</td>\n      <td>False</td>\n      <td>1.337043e+18</td>\n      <td>1337042714924380166</td>\n      <td>25073877.0</td>\n      <td>25073877</td>\n      <td>...</td>\n      <td>en</td>\n      <td>1607616936794</td>\n      <td>[23, 60]</td>\n      <td>NaN</td>\n      <td>NaN</td>\n      <td>NaN</td>\n      <td>NaN</td>\n      <td>NaN</td>\n      <td>NaN</td>\n      <td>NaN</td>\n    </tr>\n    <tr>\n      <th>2</th>\n      <td>Thu Dec 10 16:15:36 +0000 2020</td>\n      <td>1337068458832515072</td>\n      <td>1337068458832515072</td>\n      <td>RT @SeanAKehoe: The only way President Trump’s...</td>\n      <td>&lt;a href=\"http://twitter.com/download/android\" ...</td>\n      <td>False</td>\n      <td>NaN</td>\n      <td>None</td>\n      <td>NaN</td>\n      <td>None</td>\n      <td>...</td>\n      <td>en</td>\n      <td>1607616936773</td>\n      <td>NaN</td>\n      <td>NaN</td>\n      <td>NaN</td>\n      <td>NaN</td>\n      <td>NaN</td>\n      <td>NaN</td>\n      <td>NaN</td>\n      <td>NaN</td>\n    </tr>\n    <tr>\n      <th>3</th>\n      <td>Thu Dec 10 16:15:36 +0000 2020</td>\n      <td>1337068458740158469</td>\n      <td>1337068458740158469</td>\n      <td>RT @realDonaldTrump: Voter Fraud! https://t.co...</td>\n      <td>&lt;a href=\"https://mobile.twitter.com\" rel=\"nofo...</td>\n      <td>False</td>\n      <td>NaN</td>\n      <td>None</td>\n      <td>NaN</td>\n      <td>None</td>\n      <td>...</td>\n      <td>fr</td>\n      <td>1607616936751</td>\n      <td>NaN</td>\n      <td>1.334962e+18</td>\n      <td>1334962273861951491</td>\n      <td>{'created_at': 'Fri Dec 04 20:46:23 +0000 2020...</td>\n      <td>{'url': 'https://t.co/6mLqg6rmIZ', 'expanded':...</td>\n      <td>False</td>\n      <td>NaN</td>\n      <td>NaN</td>\n    </tr>\n    <tr>\n      <th>4</th>\n      <td>Thu Dec 10 16:15:36 +0000 2020</td>\n      <td>1337068459117617152</td>\n      <td>1337068459117617152</td>\n      <td>RT @PastorDScott: Why would Hunter Biden be un...</td>\n      <td>&lt;a href=\"http://twitter.com/download/iphone\" r...</td>\n      <td>False</td>\n      <td>NaN</td>\n      <td>None</td>\n      <td>NaN</td>\n      <td>None</td>\n      <td>...</td>\n      <td>en</td>\n      <td>1607616936841</td>\n      <td>NaN</td>\n      <td>NaN</td>\n      <td>NaN</td>\n      <td>NaN</td>\n      <td>NaN</td>\n      <td>NaN</td>\n      <td>NaN</td>\n      <td>NaN</td>\n    </tr>\n  </tbody>\n</table>\n<p>5 rows × 36 columns</p>\n</div>"
     },
     "metadata": {},
     "execution_count": 5
    }
   ],
   "source": [
    "df_tweets = pd.DataFrame(tweets_list)\n",
    "df_tweets.head()"
   ]
  },
  {
   "cell_type": "code",
   "execution_count": 6,
   "metadata": {},
   "outputs": [
    {
     "output_type": "stream",
     "name": "stdout",
     "text": [
      "Dimensions :  (200, 36)\n"
     ]
    }
   ],
   "source": [
    "print(\"Dimensions : \", df_tweets.shape)"
   ]
  },
  {
   "cell_type": "code",
   "execution_count": 7,
   "metadata": {},
   "outputs": [
    {
     "output_type": "stream",
     "name": "stdout",
     "text": [
      "Colonnes :\n\ncreated_at\nid\nid_str\ntext\nsource\ntruncated\nin_reply_to_status_id\nin_reply_to_status_id_str\nin_reply_to_user_id\nin_reply_to_user_id_str\nin_reply_to_screen_name\nuser\ngeo\ncoordinates\nplace\ncontributors\nretweeted_status\nis_quote_status\nquote_count\nreply_count\nretweet_count\nfavorite_count\nentities\nfavorited\nretweeted\nfilter_level\nlang\ntimestamp_ms\ndisplay_text_range\nquoted_status_id\nquoted_status_id_str\nquoted_status\nquoted_status_permalink\npossibly_sensitive\nextended_tweet\nextended_entities\n"
     ]
    }
   ],
   "source": [
    "print(\"Colonnes :\\n\")\n",
    "for name in list(df_tweets):\n",
    "    print(name)"
   ]
  },
  {
   "source": [
    "## 2) Modélisation <a name=\"model\"></a>"
   ],
   "cell_type": "markdown",
   "metadata": {}
  },
  {
   "source": [
    "### a. Preprocessing <a name=\"process\"></a>"
   ],
   "cell_type": "markdown",
   "metadata": {}
  },
  {
   "source": [
    "Nous avons fait une fonction qui fait les étapes précédentes ainsi que des fonctions pour nettoyer les données. Elles sont dans le fichier `processing.py`."
   ],
   "cell_type": "markdown",
   "metadata": {}
  },
  {
   "cell_type": "code",
   "execution_count": 8,
   "metadata": {},
   "outputs": [
    {
     "output_type": "stream",
     "name": "stdout",
     "text": [
      "La conversion des fichiers 'json' a commencé, cela peut prendre du temps\n",
      "File 1/5: [------------------>] 100 %\n",
      "File 2/5: [------------------>] 100 %\n",
      "File 3/5: [------------------>] 100 %\n",
      "File 4/5: [------------------>] 100 %\n",
      "File 5/5: [------------------>] 100 %\n"
     ]
    }
   ],
   "source": [
    "import projet.processing as process                         # Contient les fonctions pour le processing de la dataframe\n",
    "\n",
    "folder = \"./data/json/\"                                     # Pour écupèrer tous les fichiers json dans le dossier 'data/json/'\n",
    "\n",
    "dirty_df = process.tweet_json_to_df(folder=folder, verbose=True)     # Convertit les json en dataframe pandas\n"
   ]
  },
  {
   "source": [
    "Nous avons ainsi récupérer les fichiers dans `data/json/` dans la dataframe pandas `dirty_df`.\n",
    "\n",
    "Elle ressemble à :"
   ],
   "cell_type": "markdown",
   "metadata": {}
  },
  {
   "cell_type": "code",
   "execution_count": 9,
   "metadata": {},
   "outputs": [
    {
     "output_type": "execute_result",
     "data": {
      "text/plain": [
       "                       created_at                   id               id_str  \\\n",
       "0  Thu Dec 10 11:02:36 +0000 2020  1336989688167587848  1336989688167587848   \n",
       "1  Thu Dec 10 11:02:36 +0000 2020  1336989688154869760  1336989688154869760   \n",
       "2  Thu Dec 10 11:02:36 +0000 2020  1336989688565964801  1336989688565964801   \n",
       "3  Thu Dec 10 11:02:36 +0000 2020  1336989688612220928  1336989688612220928   \n",
       "4  Thu Dec 10 11:02:36 +0000 2020  1336989688612212736  1336989688612212736   \n",
       "\n",
       "                                                text  \\\n",
       "0  RT @SebGorka: I’m telling President @realDonal...   \n",
       "1  RT @LilyMasonPhD: The fact that most GOP leade...   \n",
       "2  RT @WalshFreedom: I love democracy.\\n\\nSo fuck...   \n",
       "3  @Thinkingifree17 @llgraves @AngelaBelcamino @r...   \n",
       "4  RT @jenniferatntd: So evil! And he admitted th...   \n",
       "\n",
       "                                              source  truncated  \\\n",
       "0  <a href=\"http://twitter.com/download/android\" ...      False   \n",
       "1  <a href=\"http://twitter.com/download/iphone\" r...      False   \n",
       "2  <a href=\"http://twitter.com/download/iphone\" r...      False   \n",
       "3  <a href=\"http://twitter.com/download/android\" ...      False   \n",
       "4  <a href=\"http://twitter.com/download/android\" ...      False   \n",
       "\n",
       "   in_reply_to_status_id in_reply_to_status_id_str  in_reply_to_user_id  \\\n",
       "0                    NaN                      None                  NaN   \n",
       "1                    NaN                      None                  NaN   \n",
       "2                    NaN                      None                  NaN   \n",
       "3           1.336982e+18       1336981556540403712         8.482265e+17   \n",
       "4                    NaN                      None                  NaN   \n",
       "\n",
       "  in_reply_to_user_id_str  ... lang   timestamp_ms quoted_status_id  \\\n",
       "0                    None  ...   en  1607598156383              NaN   \n",
       "1                    None  ...   en  1607598156380     1.336790e+18   \n",
       "2                    None  ...   en  1607598156478              NaN   \n",
       "3      848226546624200704  ...   en  1607598156489              NaN   \n",
       "4                    None  ...   en  1607598156489              NaN   \n",
       "\n",
       "  quoted_status_id_str                                      quoted_status  \\\n",
       "0                  NaN                                                NaN   \n",
       "1  1336790252963303425  {'created_at': 'Wed Dec 09 21:50:07 +0000 2020...   \n",
       "2                  NaN                                                NaN   \n",
       "3                  NaN                                                NaN   \n",
       "4                  NaN                                                NaN   \n",
       "\n",
       "                             quoted_status_permalink display_text_range  \\\n",
       "0                                                NaN                NaN   \n",
       "1  {'url': 'https://t.co/W3VabzdvhV', 'expanded':...                NaN   \n",
       "2                                                NaN                NaN   \n",
       "3                                                NaN          [84, 128]   \n",
       "4                                                NaN                NaN   \n",
       "\n",
       "   possibly_sensitive  extended_tweet  extended_entities  \n",
       "0                 NaN             NaN                NaN  \n",
       "1                 NaN             NaN                NaN  \n",
       "2                 NaN             NaN                NaN  \n",
       "3                 NaN             NaN                NaN  \n",
       "4                 NaN             NaN                NaN  \n",
       "\n",
       "[5 rows x 36 columns]"
      ],
      "text/html": "<div>\n<style scoped>\n    .dataframe tbody tr th:only-of-type {\n        vertical-align: middle;\n    }\n\n    .dataframe tbody tr th {\n        vertical-align: top;\n    }\n\n    .dataframe thead th {\n        text-align: right;\n    }\n</style>\n<table border=\"1\" class=\"dataframe\">\n  <thead>\n    <tr style=\"text-align: right;\">\n      <th></th>\n      <th>created_at</th>\n      <th>id</th>\n      <th>id_str</th>\n      <th>text</th>\n      <th>source</th>\n      <th>truncated</th>\n      <th>in_reply_to_status_id</th>\n      <th>in_reply_to_status_id_str</th>\n      <th>in_reply_to_user_id</th>\n      <th>in_reply_to_user_id_str</th>\n      <th>...</th>\n      <th>lang</th>\n      <th>timestamp_ms</th>\n      <th>quoted_status_id</th>\n      <th>quoted_status_id_str</th>\n      <th>quoted_status</th>\n      <th>quoted_status_permalink</th>\n      <th>display_text_range</th>\n      <th>possibly_sensitive</th>\n      <th>extended_tweet</th>\n      <th>extended_entities</th>\n    </tr>\n  </thead>\n  <tbody>\n    <tr>\n      <th>0</th>\n      <td>Thu Dec 10 11:02:36 +0000 2020</td>\n      <td>1336989688167587848</td>\n      <td>1336989688167587848</td>\n      <td>RT @SebGorka: I’m telling President @realDonal...</td>\n      <td>&lt;a href=\"http://twitter.com/download/android\" ...</td>\n      <td>False</td>\n      <td>NaN</td>\n      <td>None</td>\n      <td>NaN</td>\n      <td>None</td>\n      <td>...</td>\n      <td>en</td>\n      <td>1607598156383</td>\n      <td>NaN</td>\n      <td>NaN</td>\n      <td>NaN</td>\n      <td>NaN</td>\n      <td>NaN</td>\n      <td>NaN</td>\n      <td>NaN</td>\n      <td>NaN</td>\n    </tr>\n    <tr>\n      <th>1</th>\n      <td>Thu Dec 10 11:02:36 +0000 2020</td>\n      <td>1336989688154869760</td>\n      <td>1336989688154869760</td>\n      <td>RT @LilyMasonPhD: The fact that most GOP leade...</td>\n      <td>&lt;a href=\"http://twitter.com/download/iphone\" r...</td>\n      <td>False</td>\n      <td>NaN</td>\n      <td>None</td>\n      <td>NaN</td>\n      <td>None</td>\n      <td>...</td>\n      <td>en</td>\n      <td>1607598156380</td>\n      <td>1.336790e+18</td>\n      <td>1336790252963303425</td>\n      <td>{'created_at': 'Wed Dec 09 21:50:07 +0000 2020...</td>\n      <td>{'url': 'https://t.co/W3VabzdvhV', 'expanded':...</td>\n      <td>NaN</td>\n      <td>NaN</td>\n      <td>NaN</td>\n      <td>NaN</td>\n    </tr>\n    <tr>\n      <th>2</th>\n      <td>Thu Dec 10 11:02:36 +0000 2020</td>\n      <td>1336989688565964801</td>\n      <td>1336989688565964801</td>\n      <td>RT @WalshFreedom: I love democracy.\\n\\nSo fuck...</td>\n      <td>&lt;a href=\"http://twitter.com/download/iphone\" r...</td>\n      <td>False</td>\n      <td>NaN</td>\n      <td>None</td>\n      <td>NaN</td>\n      <td>None</td>\n      <td>...</td>\n      <td>en</td>\n      <td>1607598156478</td>\n      <td>NaN</td>\n      <td>NaN</td>\n      <td>NaN</td>\n      <td>NaN</td>\n      <td>NaN</td>\n      <td>NaN</td>\n      <td>NaN</td>\n      <td>NaN</td>\n    </tr>\n    <tr>\n      <th>3</th>\n      <td>Thu Dec 10 11:02:36 +0000 2020</td>\n      <td>1336989688612220928</td>\n      <td>1336989688612220928</td>\n      <td>@Thinkingifree17 @llgraves @AngelaBelcamino @r...</td>\n      <td>&lt;a href=\"http://twitter.com/download/android\" ...</td>\n      <td>False</td>\n      <td>1.336982e+18</td>\n      <td>1336981556540403712</td>\n      <td>8.482265e+17</td>\n      <td>848226546624200704</td>\n      <td>...</td>\n      <td>en</td>\n      <td>1607598156489</td>\n      <td>NaN</td>\n      <td>NaN</td>\n      <td>NaN</td>\n      <td>NaN</td>\n      <td>[84, 128]</td>\n      <td>NaN</td>\n      <td>NaN</td>\n      <td>NaN</td>\n    </tr>\n    <tr>\n      <th>4</th>\n      <td>Thu Dec 10 11:02:36 +0000 2020</td>\n      <td>1336989688612212736</td>\n      <td>1336989688612212736</td>\n      <td>RT @jenniferatntd: So evil! And he admitted th...</td>\n      <td>&lt;a href=\"http://twitter.com/download/android\" ...</td>\n      <td>False</td>\n      <td>NaN</td>\n      <td>None</td>\n      <td>NaN</td>\n      <td>None</td>\n      <td>...</td>\n      <td>en</td>\n      <td>1607598156489</td>\n      <td>NaN</td>\n      <td>NaN</td>\n      <td>NaN</td>\n      <td>NaN</td>\n      <td>NaN</td>\n      <td>NaN</td>\n      <td>NaN</td>\n      <td>NaN</td>\n    </tr>\n  </tbody>\n</table>\n<p>5 rows × 36 columns</p>\n</div>"
     },
     "metadata": {},
     "execution_count": 9
    }
   ],
   "source": [
    "\n",
    "dirty_df.head()"
   ]
  },
  {
   "source": [
    "On peut ensuite utiliser `clean_df` pour nettoyer la base de donnée en conservant seulement les informations qui nous interressent. On peut aussi utiliser une liste de `listes_variables` pour récupérer d'autres variables ou en ajouter dans l'option `extra` de `clean_df`."
   ],
   "cell_type": "markdown",
   "metadata": {}
  },
  {
   "cell_type": "code",
   "execution_count": 10,
   "metadata": {},
   "outputs": [
    {
     "output_type": "stream",
     "name": "stdout",
     "text": [
      "Le nettoyage a commencé\n",
      "Progress: [------------------->] 100 %\n"
     ]
    }
   ],
   "source": [
    "from importlib import reload\n",
    "reload(process)\n",
    "clean_df = process.clean_df(dirty_df, verbose=True)"
   ]
  },
  {
   "cell_type": "code",
   "execution_count": 52,
   "metadata": {},
   "outputs": [
    {
     "output_type": "execute_result",
     "data": {
      "text/plain": [
       "                                   created_at  \\\n",
       "id                                              \n",
       "1336989688167587848 2020-12-10 11:02:36+00:00   \n",
       "1336989688154869760 2020-12-10 11:02:36+00:00   \n",
       "1336989688565964801 2020-12-10 11:02:36+00:00   \n",
       "1336989688612220928 2020-12-10 11:02:36+00:00   \n",
       "1336989688612212736 2020-12-10 11:02:36+00:00   \n",
       "\n",
       "                                                                  text lang  \\\n",
       "id                                                                            \n",
       "1336989688167587848  RT @SebGorka: I’m telling President @realDonal...   en   \n",
       "1336989688154869760  RT @LilyMasonPhD: The fact that most GOP leade...   en   \n",
       "1336989688565964801  RT @WalshFreedom: I love democracy.\\n\\nSo fuck...   en   \n",
       "1336989688612220928  @Thinkingifree17 @llgraves @AngelaBelcamino @r...   en   \n",
       "1336989688612212736  RT @jenniferatntd: So evil! And he admitted th...   en   \n",
       "\n",
       "                     quote_count  reply_count  retweet_count  favorite_count  \\\n",
       "id                                                                             \n",
       "1336989688167587848            0            0              0               0   \n",
       "1336989688154869760            0            0              0               0   \n",
       "1336989688565964801            0            0              0               0   \n",
       "1336989688612220928            0            0              0               0   \n",
       "1336989688612212736            0            0              0               0   \n",
       "\n",
       "                        user-id  \\\n",
       "id                                \n",
       "1336989688167587848    31351471   \n",
       "1336989688154869760   192026827   \n",
       "1336989688565964801   202808641   \n",
       "1336989688612220928   949059464   \n",
       "1336989688612212736  2531683835   \n",
       "\n",
       "                                                      user-description  \\\n",
       "id                                                                       \n",
       "1336989688167587848  NRA Conservative, Entrepreneur, Bitcoin & Cryp...   \n",
       "1336989688154869760  I make things: sometimes awesome, sometimes no...   \n",
       "1336989688565964801                ~ A dreamer, a learner, an imaginer   \n",
       "1336989688612220928  🛡#Transgender, #Bi, #Poly 5 years HRT (04-07-1...   \n",
       "1336989688612212736    Mum  to Ben, Jamie and my special baby girl Amy   \n",
       "\n",
       "                     user-verified  ...  user-default_profile  user-lang  \\\n",
       "id                                  ...                                    \n",
       "1336989688167587848          False  ...                 False       None   \n",
       "1336989688154869760          False  ...                 False       None   \n",
       "1336989688565964801          False  ...                 False       None   \n",
       "1336989688612220928          False  ...                 False       None   \n",
       "1336989688612212736          False  ...                  True       None   \n",
       "\n",
       "                     place-name  place-full_name  place-place_type  \\\n",
       "id                                                                   \n",
       "1336989688167587848         NaN              NaN               NaN   \n",
       "1336989688154869760         NaN              NaN               NaN   \n",
       "1336989688565964801         NaN              NaN               NaN   \n",
       "1336989688612220928         NaN              NaN               NaN   \n",
       "1336989688612212736         NaN              NaN               NaN   \n",
       "\n",
       "                    place-country_code place-bounding_box  \\\n",
       "id                                                          \n",
       "1336989688167587848                NaN                NaN   \n",
       "1336989688154869760                NaN                NaN   \n",
       "1336989688565964801                NaN                NaN   \n",
       "1336989688612220928                NaN                NaN   \n",
       "1336989688612212736                NaN                NaN   \n",
       "\n",
       "                    place-bounding_box-type  place-bounding_box-coordinates  \\\n",
       "id                                                                            \n",
       "1336989688167587848                     NaN                             NaN   \n",
       "1336989688154869760                     NaN                             NaN   \n",
       "1336989688565964801                     NaN                             NaN   \n",
       "1336989688612220928                     NaN                             NaN   \n",
       "1336989688612212736                     NaN                             NaN   \n",
       "\n",
       "                                                              entities  \n",
       "id                                                                      \n",
       "1336989688167587848  {'hashtags': [], 'urls': [], 'user_mentions': ...  \n",
       "1336989688154869760  {'hashtags': [], 'urls': [], 'user_mentions': ...  \n",
       "1336989688565964801  {'hashtags': [], 'urls': [], 'user_mentions': ...  \n",
       "1336989688612220928  {'hashtags': [], 'urls': [], 'user_mentions': ...  \n",
       "1336989688612212736  {'hashtags': [{'text': 'COVID19', 'indices': [...  \n",
       "\n",
       "[5 rows x 33 columns]"
      ],
      "text/html": "<div>\n<style scoped>\n    .dataframe tbody tr th:only-of-type {\n        vertical-align: middle;\n    }\n\n    .dataframe tbody tr th {\n        vertical-align: top;\n    }\n\n    .dataframe thead th {\n        text-align: right;\n    }\n</style>\n<table border=\"1\" class=\"dataframe\">\n  <thead>\n    <tr style=\"text-align: right;\">\n      <th></th>\n      <th>created_at</th>\n      <th>text</th>\n      <th>lang</th>\n      <th>quote_count</th>\n      <th>reply_count</th>\n      <th>retweet_count</th>\n      <th>favorite_count</th>\n      <th>user-id</th>\n      <th>user-description</th>\n      <th>user-verified</th>\n      <th>...</th>\n      <th>user-default_profile</th>\n      <th>user-lang</th>\n      <th>place-name</th>\n      <th>place-full_name</th>\n      <th>place-place_type</th>\n      <th>place-country_code</th>\n      <th>place-bounding_box</th>\n      <th>place-bounding_box-type</th>\n      <th>place-bounding_box-coordinates</th>\n      <th>entities</th>\n    </tr>\n    <tr>\n      <th>id</th>\n      <th></th>\n      <th></th>\n      <th></th>\n      <th></th>\n      <th></th>\n      <th></th>\n      <th></th>\n      <th></th>\n      <th></th>\n      <th></th>\n      <th></th>\n      <th></th>\n      <th></th>\n      <th></th>\n      <th></th>\n      <th></th>\n      <th></th>\n      <th></th>\n      <th></th>\n      <th></th>\n      <th></th>\n    </tr>\n  </thead>\n  <tbody>\n    <tr>\n      <th>1336989688167587848</th>\n      <td>2020-12-10 11:02:36+00:00</td>\n      <td>RT @SebGorka: I’m telling President @realDonal...</td>\n      <td>en</td>\n      <td>0</td>\n      <td>0</td>\n      <td>0</td>\n      <td>0</td>\n      <td>31351471</td>\n      <td>NRA Conservative, Entrepreneur, Bitcoin &amp; Cryp...</td>\n      <td>False</td>\n      <td>...</td>\n      <td>False</td>\n      <td>None</td>\n      <td>NaN</td>\n      <td>NaN</td>\n      <td>NaN</td>\n      <td>NaN</td>\n      <td>NaN</td>\n      <td>NaN</td>\n      <td>NaN</td>\n      <td>{'hashtags': [], 'urls': [], 'user_mentions': ...</td>\n    </tr>\n    <tr>\n      <th>1336989688154869760</th>\n      <td>2020-12-10 11:02:36+00:00</td>\n      <td>RT @LilyMasonPhD: The fact that most GOP leade...</td>\n      <td>en</td>\n      <td>0</td>\n      <td>0</td>\n      <td>0</td>\n      <td>0</td>\n      <td>192026827</td>\n      <td>I make things: sometimes awesome, sometimes no...</td>\n      <td>False</td>\n      <td>...</td>\n      <td>False</td>\n      <td>None</td>\n      <td>NaN</td>\n      <td>NaN</td>\n      <td>NaN</td>\n      <td>NaN</td>\n      <td>NaN</td>\n      <td>NaN</td>\n      <td>NaN</td>\n      <td>{'hashtags': [], 'urls': [], 'user_mentions': ...</td>\n    </tr>\n    <tr>\n      <th>1336989688565964801</th>\n      <td>2020-12-10 11:02:36+00:00</td>\n      <td>RT @WalshFreedom: I love democracy.\\n\\nSo fuck...</td>\n      <td>en</td>\n      <td>0</td>\n      <td>0</td>\n      <td>0</td>\n      <td>0</td>\n      <td>202808641</td>\n      <td>~ A dreamer, a learner, an imaginer</td>\n      <td>False</td>\n      <td>...</td>\n      <td>False</td>\n      <td>None</td>\n      <td>NaN</td>\n      <td>NaN</td>\n      <td>NaN</td>\n      <td>NaN</td>\n      <td>NaN</td>\n      <td>NaN</td>\n      <td>NaN</td>\n      <td>{'hashtags': [], 'urls': [], 'user_mentions': ...</td>\n    </tr>\n    <tr>\n      <th>1336989688612220928</th>\n      <td>2020-12-10 11:02:36+00:00</td>\n      <td>@Thinkingifree17 @llgraves @AngelaBelcamino @r...</td>\n      <td>en</td>\n      <td>0</td>\n      <td>0</td>\n      <td>0</td>\n      <td>0</td>\n      <td>949059464</td>\n      <td>🛡#Transgender, #Bi, #Poly 5 years HRT (04-07-1...</td>\n      <td>False</td>\n      <td>...</td>\n      <td>False</td>\n      <td>None</td>\n      <td>NaN</td>\n      <td>NaN</td>\n      <td>NaN</td>\n      <td>NaN</td>\n      <td>NaN</td>\n      <td>NaN</td>\n      <td>NaN</td>\n      <td>{'hashtags': [], 'urls': [], 'user_mentions': ...</td>\n    </tr>\n    <tr>\n      <th>1336989688612212736</th>\n      <td>2020-12-10 11:02:36+00:00</td>\n      <td>RT @jenniferatntd: So evil! And he admitted th...</td>\n      <td>en</td>\n      <td>0</td>\n      <td>0</td>\n      <td>0</td>\n      <td>0</td>\n      <td>2531683835</td>\n      <td>Mum  to Ben, Jamie and my special baby girl Amy</td>\n      <td>False</td>\n      <td>...</td>\n      <td>True</td>\n      <td>None</td>\n      <td>NaN</td>\n      <td>NaN</td>\n      <td>NaN</td>\n      <td>NaN</td>\n      <td>NaN</td>\n      <td>NaN</td>\n      <td>NaN</td>\n      <td>{'hashtags': [{'text': 'COVID19', 'indices': [...</td>\n    </tr>\n  </tbody>\n</table>\n<p>5 rows × 33 columns</p>\n</div>"
     },
     "metadata": {},
     "execution_count": 52
    }
   ],
   "source": [
    "clean_df.head()"
   ]
  },
  {
   "cell_type": "code",
   "execution_count": 11,
   "metadata": {},
   "outputs": [
    {
     "output_type": "execute_result",
     "data": {
      "text/plain": [
       "['created_at',\n",
       " 'text',\n",
       " 'lang',\n",
       " 'quote_count',\n",
       " 'reply_count',\n",
       " 'retweet_count',\n",
       " 'favorite_count',\n",
       " 'user-id',\n",
       " 'user-name',\n",
       " 'user-screen_name',\n",
       " 'user-location',\n",
       " 'user-description',\n",
       " 'user-protected',\n",
       " 'user-verified',\n",
       " 'user-followers_count',\n",
       " 'user-friends_count',\n",
       " 'user-listed_count',\n",
       " 'user-favourites_count',\n",
       " 'user-statuses_count',\n",
       " 'user-created_at',\n",
       " 'user-contributors_enabled',\n",
       " 'user-geo_enabled',\n",
       " 'user-profile_background_color',\n",
       " 'user-profile_sidebar_border_color',\n",
       " 'user-profile_sidebar_fill_color',\n",
       " 'user-profile_text_color',\n",
       " 'user-profile_use_background_image',\n",
       " 'user-default_profile',\n",
       " 'user-following',\n",
       " 'user-follow_request_sent',\n",
       " 'user-notifications',\n",
       " 'place-name',\n",
       " 'place-full_name',\n",
       " 'place-place_type',\n",
       " 'place-country_code',\n",
       " 'place-country',\n",
       " 'place-bounding_box-type',\n",
       " 'place-bounding_box-coordinates']"
      ]
     },
     "metadata": {},
     "execution_count": 11
    }
   ],
   "source": [
    "list(clean_df)"
   ]
  },
  {
   "cell_type": "code",
   "execution_count": 50,
   "metadata": {},
   "outputs": [
    {
     "output_type": "execute_result",
     "data": {
      "text/plain": [
       "1.0"
      ]
     },
     "metadata": {},
     "execution_count": 50
    }
   ],
   "source": [
    "sum(clean_df['user-lang'].isnull())/clean_df.shape[0]"
   ]
  },
  {
   "source": [
    "### b. Clustering <a name=\"cluster\"></a>"
   ],
   "cell_type": "markdown",
   "metadata": {}
  },
  {
   "source": [
    "## 3) Visualisation <a name=\"visu\"></a>"
   ],
   "cell_type": "markdown",
   "metadata": {}
  },
  {
   "source": [
    "### a. Nuages de mots <a name=\"cloud\"></a>"
   ],
   "cell_type": "markdown",
   "metadata": {}
  },
  {
   "source": [
    "### b. Carte interactive <a name=\"map\"></a>"
   ],
   "cell_type": "markdown",
   "metadata": {}
  },
  {
   "source": [
    "## Conclusion <a name=\"conc\"></a>"
   ],
   "cell_type": "markdown",
   "metadata": {}
  },
  {
   "source": [
    "## Annexes <a name=\"annex\"></a>"
   ],
   "cell_type": "markdown",
   "metadata": {}
  }
 ]
}