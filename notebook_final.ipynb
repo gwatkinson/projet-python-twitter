{
 "metadata": {
  "language_info": {
   "codemirror_mode": {
    "name": "ipython",
    "version": 3
   },
   "file_extension": ".py",
   "mimetype": "text/x-python",
   "name": "python",
   "nbconvert_exporter": "python",
   "pygments_lexer": "ipython3",
   "version": "3.8.5-final"
  },
  "orig_nbformat": 2,
  "kernelspec": {
   "name": "python3",
   "display_name": "Python 3"
  }
 },
 "nbformat": 4,
 "nbformat_minor": 2,
 "cells": [
  {
   "source": [
    "# Projet de programmation"
   ],
   "cell_type": "markdown",
   "metadata": {}
  },
  {
   "source": [
    "## Introduction <a name=\"intro\"></a>"
   ],
   "cell_type": "markdown",
   "metadata": {}
  },
  {
   "source": [
    "Il faut récupèrer le projet avec : \n",
    "\n",
    "    git clone https://github.com/gwatkinson/projet-python-twitter.git\n",
    "\n",
    "Puis, il faut créer le fichier `projet/credentials.py`, qui contient les clés de l'API de Twitter.\n",
    "\n",
    "Dans le format suivant :\n",
    "\n",
    "```python\n",
    "credentials = {\n",
    "    \"consumer_key\": \"XXXXXXX\",\n",
    "    \"consumer_secret\": \"XXXXXXX\",\n",
    "    \"access_token\": \"XXXXXXX\",\n",
    "    \"access_token_secret\": \"XXXXXXX\",\n",
    "}\n",
    "```\n",
    "\n",
    "Finalement, il suffit d'executer les cellules de ce notebook dans l'ordre."
   ],
   "cell_type": "markdown",
   "metadata": {}
  },
  {
   "source": [
    "## Table des matières\n",
    "\n",
    "* [Introduction](#intro)\n",
    "1. [Récupération des données](#data)\n",
    "2. [Modélisation](#model)\n",
    "3. [Visualisation](#visu)\n",
    "* [Conclusion](#conc)\n",
    "* [Annexes](#annex)"
   ],
   "cell_type": "markdown",
   "metadata": {}
  },
  {
   "source": [
    "## 1. Récupération des données <a name=\"data\"></a>\n",
    "\n"
   ],
   "cell_type": "markdown",
   "metadata": {}
  },
  {
   "source": [
    "Nous avons utilisé l'**API** de Twitter pour récupérer les nouveaux tweets publiés sur Twitter, la nuit du 3 au 4 Novembre 2020 (la nuit de l'éléction américaine). Nous avons seulement récupérer les tweets qui contennaient certains mots :"
   ],
   "cell_type": "markdown",
   "metadata": {}
  },
  {
   "cell_type": "code",
   "execution_count": 1,
   "metadata": {},
   "outputs": [],
   "source": [
    "# Liste 3 sur Trump et Biden uniquement\n",
    "liste_3 = [\n",
    "    \"biden\",\n",
    "    \"trump\",\n",
    "    \"JoeBiden\",\n",
    "    \"realDonaldTrump\",\n",
    "]\n",
    "\n",
    "# Liste 4 sur le thème 'vote'\n",
    "liste_4 = [\n",
    "    \"iwillvote\",\n",
    "    \"govote\",\n",
    "    \"uselection\",\n",
    "    \"vote\",\n",
    "]\n",
    "\n",
    "# Liste 5 sur le thème 'election'\n",
    "liste_5 = [\n",
    "    \"uselection\",\n",
    "    \"president\",\n",
    "    \"presidentialelection\",\n",
    "    \"presidential\",\n",
    "    \"electionnight\",\n",
    "]"
   ]
  },
  {
   "source": [
    "Pour cela, nous avons utilisé le module python `tweepy` ainsi que les fonctions codées dans le module `streaming` (voir la documentation pour plus d'information sur [`start_stream`](https://gwatkinson.github.io/projet-python-twitter/streaming.html#projet_python_twitter.streaming.start_stream)). Voici un exemple d'utilisation du code que nous avons écrit :"
   ],
   "cell_type": "markdown",
   "metadata": {}
  },
  {
   "cell_type": "code",
   "execution_count": 1,
   "metadata": {},
   "outputs": [
    {
     "output_type": "stream",
     "name": "stdout",
     "text": [
      "Début du stream\n",
      "WARNING: Limitation notice received, tweets missed: 25\n",
      "WARNING: Limitation notice received, tweets missed: 48\n",
      "WARNING: Limitation notice received, tweets missed: 56\n",
      "Progress: [------------------->] 100 %\n",
      "Les 200 tweets ont été récupérés.\n",
      "Le stream a duré : 0.0h\n",
      "Fin du stream\n"
     ]
    }
   ],
   "source": [
    "import projet.streaming as stream                           # Contient les focntions pour le streaming\n",
    "import projet.listes_mots as listes                         # Contient les listes de mots\n",
    "import projet._credentials as cred                          # Contient les clés d'authentification à l'API\n",
    "\n",
    "credentials = stream.CredentialsClass(cred.credentials)     # Pour se connecter à l'API (il faut le fichier projet/_credentials.py)\n",
    "\n",
    "stream.start_stream(\n",
    "    credentials=credentials,\n",
    "    liste_mots=listes.liste_3,                              # Liste des mots à tracker (voir `projet.listes_mots`)\n",
    "    nb=200,                                                 # Nombre de tweets à recupérer\n",
    "    # timeout=10/3600,                                        # Durée du stream\n",
    "    fprefix=\"exemple_liste_3\",                              # À modifier en fonction de la liste selectionnée\n",
    "    path=\"./data/json/\",                                    # À modifier selon l'utilisateur (doit finir par \"/\" ou \"\\\")\n",
    "    verbose=True,\n",
    ")"
   ]
  },
  {
   "source": [
    "Un fichier `json` a été créé dans `data/json/`.\n",
    "\n",
    "Pour voir à quoi ressemble les données :"
   ],
   "cell_type": "markdown",
   "metadata": {}
  },
  {
   "cell_type": "code",
   "execution_count": 2,
   "metadata": {
    "tags": []
   },
   "outputs": [
    {
     "output_type": "stream",
     "name": "stdout",
     "text": [
      "On regarde le fichier : data\\json\\exemple_liste_3_20201207-181917.json\n\nLe premier tweet :\n{'created_at': 'Mon Dec 07 17:19:09 +0000 2020', 'id': 1335997287001174021, 'id_str': '1335997287001174021', 'text': \"RT @KelemenCari: @SidneyPowell1 @realDonaldTrump @DanScavino @GenFlynn @LLinWood Why don't they just meet over Zoom? The rest of America is…\", 'source': '<a href=\"http://twitter.com/download/android\" rel=\"nofollow\">Twitter for Android</a>', 'truncated': False, 'in_reply_to_status_id': None, 'in_reply_to_status_id_str': None, 'in_reply_to_user_id': None, 'in_reply_to_user_id_str': None, 'in_reply_to_screen_name': None, 'user': {'id': 1026922476994002950, 'id_str': '1026922476994002950', 'name': 'Fight for Freedom! 🇺🇲🇮🇳🇹🇼🇭🇰🇬🇧🇵🇭🇺🇲', 'screen_name': 'Austerity2020', 'location': None, 'url': None, 'description': 'Asian American U.S. Patriot. TRUMP is the ONLY WORLD LEADER who stands up to the CCP! #TRUMP2020ToSaveAmerica #FightBack', 'translator_type': 'none', 'protected': False, 'verified': False, 'followers_count': 1449, 'friends_count': 3517, 'listed_count': 5, 'favourites_count': 35986, 'statuses_count': 21389, 'created_at': 'Tue Aug 07 20:06:12 +0000 2018', 'utc_offset': None, 'time_zone': None, 'geo_enabled': False, 'lang': None, 'contributors_enabled': False, 'is_translator': False, 'profile_background_color': '000000', 'profile_background_image_url': 'http://abs.twimg.com/images/themes/theme1/bg.png', 'profile_background_image_url_https': 'https://abs.twimg.com/images/themes/theme1/bg.png', 'profile_background_tile': False, 'profile_link_color': '1B95E0', 'profile_sidebar_border_color': '000000', 'profile_sidebar_fill_color': '000000', 'profile_text_color': '000000', 'profile_use_background_image': False, 'profile_image_url': 'http://pbs.twimg.com/profile_images/1283945493819777025/fZwjeQV6_normal.jpg', 'profile_image_url_https': 'https://pbs.twimg.com/profile_images/1283945493819777025/fZwjeQV6_normal.jpg', 'profile_banner_url': 'https://pbs.twimg.com/profile_banners/1026922476994002950/1596843390', 'default_profile': False, 'default_profile_image': False, 'following': None, 'follow_request_sent': None, 'notifications': None}, 'geo': None, 'coordinates': None, 'place': None, 'contributors': None, 'retweeted_status': {'created_at': 'Mon Dec 07 17:14:53 +0000 2020', 'id': 1335996211178901504, 'id_str': '1335996211178901504', 'text': \"@SidneyPowell1 @realDonaldTrump @DanScavino @GenFlynn @LLinWood Why don't they just meet over Zoom? The rest of America is doing it.\", 'display_text_range': [64, 132], 'source': '<a href=\"https://mobile.twitter.com\" rel=\"nofollow\">Twitter Web App</a>', 'truncated': False, 'in_reply_to_status_id': 1335994775678423048, 'in_reply_to_status_id_str': '1335994775678423048', 'in_reply_to_user_id': 586707638, 'in_reply_to_user_id_str': '586707638', 'in_reply_to_screen_name': 'SidneyPowell1', 'user': {'id': 736989573201301504, 'id_str': '736989573201301504', 'name': 'Cari Kelemen', 'screen_name': 'KelemenCari', 'location': 'Texas', 'url': 'https://www.youtube.com/c/CariKelemen', 'description': \"If the world stands against me, then I stand against the world.\\n- Athanasius of Alexandria\\n\\nI'm here to support my President.\", 'translator_type': 'none', 'protected': False, 'verified': False, 'followers_count': 110686, 'friends_count': 13370, 'listed_count': 111, 'favourites_count': 96138, 'statuses_count': 66867, 'created_at': 'Sun May 29 18:36:21 +0000 2016', 'utc_offset': None, 'time_zone': None, 'geo_enabled': False, 'lang': None, 'contributors_enabled': False, 'is_translator': False, 'profile_background_color': '000000', 'profile_background_image_url': 'http://abs.twimg.com/images/themes/theme1/bg.png', 'profile_background_image_url_https': 'https://abs.twimg.com/images/themes/theme1/bg.png', 'profile_background_tile': False, 'profile_link_color': 'ABB8C2', 'profile_sidebar_border_color': '000000', 'profile_sidebar_fill_color': '000000', 'profile_text_color': '000000', 'profile_use_background_image': False, 'profile_image_url': 'http://pbs.twimg.com/profile_images/1333147540078821377/Ev3x9ky2_normal.png', 'profile_image_url_https': 'https://pbs.twimg.com/profile_images/1333147540078821377/Ev3x9ky2_normal.png', 'profile_banner_url': 'https://pbs.twimg.com/profile_banners/736989573201301504/1503869699', 'default_profile': False, 'default_profile_image': False, 'following': None, 'follow_request_sent': None, 'notifications': None}, 'geo': None, 'coordinates': None, 'place': None, 'contributors': None, 'is_quote_status': False, 'quote_count': 1, 'reply_count': 2, 'retweet_count': 22, 'favorite_count': 151, 'entities': {'hashtags': [], 'urls': [], 'user_mentions': [{'screen_name': 'SidneyPowell1', 'name': 'Sidney Powell 🇺🇸⭐⭐⭐', 'id': 586707638, 'id_str': '586707638', 'indices': [0, 14]}, {'screen_name': 'realDonaldTrump', 'name': 'Donald J. Trump', 'id': 25073877, 'id_str': '25073877', 'indices': [15, 31]}, {'screen_name': 'DanScavino', 'name': 'Dan Scavino🇺🇸🦅', 'id': 620571475, 'id_str': '620571475', 'indices': [32, 43]}, {'screen_name': 'GenFlynn', 'name': 'General Flynn', 'id': 240454812, 'id_str': '240454812', 'indices': [44, 53]}, {'screen_name': 'LLinWood', 'name': 'Lin Wood', 'id': 187680645, 'id_str': '187680645', 'indices': [54, 63]}], 'symbols': []}, 'favorited': False, 'retweeted': False, 'filter_level': 'low', 'lang': 'en'}, 'is_quote_status': False, 'quote_count': 0, 'reply_count': 0, 'retweet_count': 0, 'favorite_count': 0, 'entities': {'hashtags': [], 'urls': [], 'user_mentions': [{'screen_name': 'KelemenCari', 'name': 'Cari Kelemen', 'id': 736989573201301504, 'id_str': '736989573201301504', 'indices': [3, 15]}, {'screen_name': 'SidneyPowell1', 'name': 'Sidney Powell 🇺🇸⭐⭐⭐', 'id': 586707638, 'id_str': '586707638', 'indices': [17, 31]}, {'screen_name': 'realDonaldTrump', 'name': 'Donald J. Trump', 'id': 25073877, 'id_str': '25073877', 'indices': [32, 48]}, {'screen_name': 'DanScavino', 'name': 'Dan Scavino🇺🇸🦅', 'id': 620571475, 'id_str': '620571475', 'indices': [49, 60]}, {'screen_name': 'GenFlynn', 'name': 'General Flynn', 'id': 240454812, 'id_str': '240454812', 'indices': [61, 70]}, {'screen_name': 'LLinWood', 'name': 'Lin Wood', 'id': 187680645, 'id_str': '187680645', 'indices': [71, 80]}], 'symbols': []}, 'favorited': False, 'retweeted': False, 'filter_level': 'low', 'lang': 'en', 'timestamp_ms': '1607361549507'}\n"
     ]
    }
   ],
   "source": [
    "import glob\n",
    "import json\n",
    "import pandas as pd\n",
    "\n",
    "path = glob.glob(\"data\\\\json\\\\exemple_liste_3*.json\")[-1]  # On récupère le dernier fichier exemple crée\n",
    "print(\"On regarde le fichier : \"+path+\"\\n\")\n",
    "\n",
    "tweets_list = []\n",
    "with open(path, \"r\") as fh:\n",
    "    file = fh.read().split(\"\\n\")\n",
    "    for line in file:\n",
    "        if line:\n",
    "            tweets_list.append(json.loads(line))\n",
    "\n",
    "print(\"Le premier tweet :\")\n",
    "print(tweets_list[0])\n"
   ]
  },
  {
   "source": [
    "Il s'agit du format `json`. Il est difficile de voir les variable comme cela. On peut créer une `dataframe pandas` pour mieux comprendre les données."
   ],
   "cell_type": "markdown",
   "metadata": {}
  },
  {
   "cell_type": "code",
   "execution_count": 5,
   "metadata": {},
   "outputs": [
    {
     "output_type": "stream",
     "name": "stdout",
     "text": [
      "Dimensions :  (200, 36) \n\nColonnes :  ['created_at', 'id', 'id_str', 'text', 'source', 'truncated', 'in_reply_to_status_id', 'in_reply_to_status_id_str', 'in_reply_to_user_id', 'in_reply_to_user_id_str', 'in_reply_to_screen_name', 'user', 'geo', 'coordinates', 'place', 'contributors', 'retweeted_status', 'is_quote_status', 'quote_count', 'reply_count', 'retweet_count', 'favorite_count', 'entities', 'favorited', 'retweeted', 'filter_level', 'lang', 'timestamp_ms', 'display_text_range', 'extended_tweet', 'possibly_sensitive', 'quoted_status_id', 'quoted_status_id_str', 'quoted_status', 'quoted_status_permalink', 'extended_entities'] \n\n"
     ]
    },
    {
     "output_type": "execute_result",
     "data": {
      "text/plain": [
       "                       created_at                   id               id_str  \\\n",
       "0  Mon Dec 07 17:19:09 +0000 2020  1335997287001174021  1335997287001174021   \n",
       "1  Mon Dec 07 17:19:09 +0000 2020  1335997286992777225  1335997286992777225   \n",
       "2  Mon Dec 07 17:19:09 +0000 2020  1335997287512895489  1335997287512895489   \n",
       "3  Mon Dec 07 17:19:09 +0000 2020  1335997287382790144  1335997287382790144   \n",
       "4  Mon Dec 07 17:19:09 +0000 2020  1335997287374483465  1335997287374483465   \n",
       "\n",
       "                                                text  \\\n",
       "0  RT @KelemenCari: @SidneyPowell1 @realDonaldTru...   \n",
       "1  @robertkaeguttle @DigitalSoulja @hoodietrades ...   \n",
       "2  Biden elige al latino Xavier Becerra para diri...   \n",
       "3       RT @JuliansRum: 2012 https://t.co/Omm2RNaUzt   \n",
       "4  RT @StellaMoris1: Two pictures of Julian in UK...   \n",
       "\n",
       "                                              source  truncated  \\\n",
       "0  <a href=\"http://twitter.com/download/android\" ...      False   \n",
       "1  <a href=\"https://mobile.twitter.com\" rel=\"nofo...       True   \n",
       "2  <a href=\"https://dolartoday.com/swat-comunicac...      False   \n",
       "3  <a href=\"https://mobile.twitter.com\" rel=\"nofo...      False   \n",
       "4  <a href=\"http://twitter.com/download/iphone\" r...      False   \n",
       "\n",
       "   in_reply_to_status_id in_reply_to_status_id_str  in_reply_to_user_id  \\\n",
       "0                    NaN                      None                  NaN   \n",
       "1           1.335997e+18       1335996580495814664         1.227717e+18   \n",
       "2                    NaN                      None                  NaN   \n",
       "3                    NaN                      None                  NaN   \n",
       "4                    NaN                      None                  NaN   \n",
       "\n",
       "  in_reply_to_user_id_str  ... lang   timestamp_ms display_text_range  \\\n",
       "0                    None  ...   en  1607361549507                NaN   \n",
       "1     1227717294245236736  ...   en  1607361549505          [72, 140]   \n",
       "2                    None  ...   es  1607361549629                NaN   \n",
       "3                    None  ...  und  1607361549598                NaN   \n",
       "4                    None  ...   en  1607361549596                NaN   \n",
       "\n",
       "                                      extended_tweet possibly_sensitive  \\\n",
       "0                                                NaN                NaN   \n",
       "1  {'full_text': '@robertkaeguttle @DigitalSoulja...                NaN   \n",
       "2                                                NaN              False   \n",
       "3                                                NaN              False   \n",
       "4                                                NaN                NaN   \n",
       "\n",
       "  quoted_status_id quoted_status_id_str  \\\n",
       "0              NaN                  NaN   \n",
       "1              NaN                  NaN   \n",
       "2              NaN                  NaN   \n",
       "3     2.532067e+17   253206663664922624   \n",
       "4              NaN                  NaN   \n",
       "\n",
       "                                       quoted_status  \\\n",
       "0                                                NaN   \n",
       "1                                                NaN   \n",
       "2                                                NaN   \n",
       "3  {'created_at': 'Tue Oct 02 18:55:47 +0000 2012...   \n",
       "4                                                NaN   \n",
       "\n",
       "                             quoted_status_permalink  extended_entities  \n",
       "0                                                NaN                NaN  \n",
       "1                                                NaN                NaN  \n",
       "2                                                NaN                NaN  \n",
       "3  {'url': 'https://t.co/Omm2RNaUzt', 'expanded':...                NaN  \n",
       "4                                                NaN                NaN  \n",
       "\n",
       "[5 rows x 36 columns]"
      ],
      "text/html": "<div>\n<style scoped>\n    .dataframe tbody tr th:only-of-type {\n        vertical-align: middle;\n    }\n\n    .dataframe tbody tr th {\n        vertical-align: top;\n    }\n\n    .dataframe thead th {\n        text-align: right;\n    }\n</style>\n<table border=\"1\" class=\"dataframe\">\n  <thead>\n    <tr style=\"text-align: right;\">\n      <th></th>\n      <th>created_at</th>\n      <th>id</th>\n      <th>id_str</th>\n      <th>text</th>\n      <th>source</th>\n      <th>truncated</th>\n      <th>in_reply_to_status_id</th>\n      <th>in_reply_to_status_id_str</th>\n      <th>in_reply_to_user_id</th>\n      <th>in_reply_to_user_id_str</th>\n      <th>...</th>\n      <th>lang</th>\n      <th>timestamp_ms</th>\n      <th>display_text_range</th>\n      <th>extended_tweet</th>\n      <th>possibly_sensitive</th>\n      <th>quoted_status_id</th>\n      <th>quoted_status_id_str</th>\n      <th>quoted_status</th>\n      <th>quoted_status_permalink</th>\n      <th>extended_entities</th>\n    </tr>\n  </thead>\n  <tbody>\n    <tr>\n      <th>0</th>\n      <td>Mon Dec 07 17:19:09 +0000 2020</td>\n      <td>1335997287001174021</td>\n      <td>1335997287001174021</td>\n      <td>RT @KelemenCari: @SidneyPowell1 @realDonaldTru...</td>\n      <td>&lt;a href=\"http://twitter.com/download/android\" ...</td>\n      <td>False</td>\n      <td>NaN</td>\n      <td>None</td>\n      <td>NaN</td>\n      <td>None</td>\n      <td>...</td>\n      <td>en</td>\n      <td>1607361549507</td>\n      <td>NaN</td>\n      <td>NaN</td>\n      <td>NaN</td>\n      <td>NaN</td>\n      <td>NaN</td>\n      <td>NaN</td>\n      <td>NaN</td>\n      <td>NaN</td>\n    </tr>\n    <tr>\n      <th>1</th>\n      <td>Mon Dec 07 17:19:09 +0000 2020</td>\n      <td>1335997286992777225</td>\n      <td>1335997286992777225</td>\n      <td>@robertkaeguttle @DigitalSoulja @hoodietrades ...</td>\n      <td>&lt;a href=\"https://mobile.twitter.com\" rel=\"nofo...</td>\n      <td>True</td>\n      <td>1.335997e+18</td>\n      <td>1335996580495814664</td>\n      <td>1.227717e+18</td>\n      <td>1227717294245236736</td>\n      <td>...</td>\n      <td>en</td>\n      <td>1607361549505</td>\n      <td>[72, 140]</td>\n      <td>{'full_text': '@robertkaeguttle @DigitalSoulja...</td>\n      <td>NaN</td>\n      <td>NaN</td>\n      <td>NaN</td>\n      <td>NaN</td>\n      <td>NaN</td>\n      <td>NaN</td>\n    </tr>\n    <tr>\n      <th>2</th>\n      <td>Mon Dec 07 17:19:09 +0000 2020</td>\n      <td>1335997287512895489</td>\n      <td>1335997287512895489</td>\n      <td>Biden elige al latino Xavier Becerra para diri...</td>\n      <td>&lt;a href=\"https://dolartoday.com/swat-comunicac...</td>\n      <td>False</td>\n      <td>NaN</td>\n      <td>None</td>\n      <td>NaN</td>\n      <td>None</td>\n      <td>...</td>\n      <td>es</td>\n      <td>1607361549629</td>\n      <td>NaN</td>\n      <td>NaN</td>\n      <td>False</td>\n      <td>NaN</td>\n      <td>NaN</td>\n      <td>NaN</td>\n      <td>NaN</td>\n      <td>NaN</td>\n    </tr>\n    <tr>\n      <th>3</th>\n      <td>Mon Dec 07 17:19:09 +0000 2020</td>\n      <td>1335997287382790144</td>\n      <td>1335997287382790144</td>\n      <td>RT @JuliansRum: 2012 https://t.co/Omm2RNaUzt</td>\n      <td>&lt;a href=\"https://mobile.twitter.com\" rel=\"nofo...</td>\n      <td>False</td>\n      <td>NaN</td>\n      <td>None</td>\n      <td>NaN</td>\n      <td>None</td>\n      <td>...</td>\n      <td>und</td>\n      <td>1607361549598</td>\n      <td>NaN</td>\n      <td>NaN</td>\n      <td>False</td>\n      <td>2.532067e+17</td>\n      <td>253206663664922624</td>\n      <td>{'created_at': 'Tue Oct 02 18:55:47 +0000 2012...</td>\n      <td>{'url': 'https://t.co/Omm2RNaUzt', 'expanded':...</td>\n      <td>NaN</td>\n    </tr>\n    <tr>\n      <th>4</th>\n      <td>Mon Dec 07 17:19:09 +0000 2020</td>\n      <td>1335997287374483465</td>\n      <td>1335997287374483465</td>\n      <td>RT @StellaMoris1: Two pictures of Julian in UK...</td>\n      <td>&lt;a href=\"http://twitter.com/download/iphone\" r...</td>\n      <td>False</td>\n      <td>NaN</td>\n      <td>None</td>\n      <td>NaN</td>\n      <td>None</td>\n      <td>...</td>\n      <td>en</td>\n      <td>1607361549596</td>\n      <td>NaN</td>\n      <td>NaN</td>\n      <td>NaN</td>\n      <td>NaN</td>\n      <td>NaN</td>\n      <td>NaN</td>\n      <td>NaN</td>\n      <td>NaN</td>\n    </tr>\n  </tbody>\n</table>\n<p>5 rows × 36 columns</p>\n</div>"
     },
     "metadata": {},
     "execution_count": 5
    }
   ],
   "source": [
    "df_tweets = pd.DataFrame(tweets_list)\n",
    "print(\"Dimensions : \", df_tweets.shape, \"\\n\")\n",
    "print(\"Colonnes : \", list(df_tweets), \"\\n\")\n",
    "df_tweets.head()"
   ]
  },
  {
   "source": [
    "## 2. Modélisation <a name=\"model\"></a>"
   ],
   "cell_type": "markdown",
   "metadata": {}
  },
  {
   "source": [
    "## 3. Visualisation <a name=\"visu\"></a>"
   ],
   "cell_type": "markdown",
   "metadata": {}
  },
  {
   "source": [
    "## Conclusion <a name=\"conc\"></a>"
   ],
   "cell_type": "markdown",
   "metadata": {}
  },
  {
   "source": [
    "## Annexes <a name=\"annex\"></a>"
   ],
   "cell_type": "markdown",
   "metadata": {}
  }
 ]
}