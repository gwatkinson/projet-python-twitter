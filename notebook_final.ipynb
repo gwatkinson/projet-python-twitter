{
 "metadata": {
  "language_info": {
   "codemirror_mode": {
    "name": "ipython",
    "version": 3
   },
   "file_extension": ".py",
   "mimetype": "text/x-python",
   "name": "python",
   "nbconvert_exporter": "python",
   "pygments_lexer": "ipython3",
   "version": "3.8.5-final"
  },
  "orig_nbformat": 2,
  "kernelspec": {
   "name": "python3",
   "display_name": "Python 3",
   "language": "python"
  }
 },
 "nbformat": 4,
 "nbformat_minor": 2,
 "cells": [
  {
   "source": [
    "# Projet de programmation"
   ],
   "cell_type": "markdown",
   "metadata": {}
  },
  {
   "source": [
    "## Introduction <a name=\"intro\"></a>"
   ],
   "cell_type": "markdown",
   "metadata": {}
  },
  {
   "source": [
    "Il faut récupèrer le projet avec : \n",
    "\n",
    "    git clone https://github.com/gwatkinson/projet-python-twitter.git"
   ],
   "cell_type": "markdown",
   "metadata": {}
  },
  {
   "source": [
    "Puis, il faut créer le fichier `projet/_credentials.py`, qui contient les clés de l'API de Twitter.\n",
    "\n",
    "Dans le format suivant :\n",
    "\n",
    "```python\n",
    "credentials = {\n",
    "    \"consumer_key\": \"XXXXXXX\",\n",
    "    \"consumer_secret\": \"XXXXXXX\",\n",
    "    \"access_token\": \"XXXXXXX\",\n",
    "    \"access_token_secret\": \"XXXXXXX\",\n",
    "}\n",
    "```"
   ],
   "cell_type": "markdown",
   "metadata": {}
  },
  {
   "source": [
    "Finalement, il suffit d'executer les cellules de ce notebook dans l'ordre."
   ],
   "cell_type": "markdown",
   "metadata": {}
  },
  {
   "source": [
    "## Table des matières\n",
    "\n",
    "* [Introduction](#intro)\n",
    "* [1)Récupération des données](#data)\n",
    "* [2)Modélisation](#model)\n",
    "    * [a.Prepocessing](#process)\n",
    "    * [b.Clustering](#cluster)\n",
    "* [3)Visualisation](#visu)\n",
    "    * [a.Nuages de mots](#cloud)\n",
    "    * [b.Carte interactive](#map)\n",
    "* [Conclusion](#conc)\n",
    "* [Annexes](#annex)"
   ],
   "cell_type": "markdown",
   "metadata": {}
  },
  {
   "source": [
    "## 1) Récupération des données <a name=\"data\"></a>\n",
    "\n"
   ],
   "cell_type": "markdown",
   "metadata": {}
  },
  {
   "source": [
    "Nous avons utilisé l'**API** de Twitter pour récupérer les nouveaux tweets publiés sur Twitter, la nuit du 3 au 4 Novembre 2020 (la nuit de l'éléction américaine). Nous avons seulement récupérer les tweets qui contennaient certains mots :"
   ],
   "cell_type": "markdown",
   "metadata": {}
  },
  {
   "cell_type": "code",
   "execution_count": 1,
   "metadata": {},
   "outputs": [],
   "source": [
    "# Liste 3 sur Trump et Biden uniquement\n",
    "liste_3 = [\n",
    "    \"biden\",\n",
    "    \"trump\",\n",
    "    \"JoeBiden\",\n",
    "    \"realDonaldTrump\",\n",
    "]\n",
    "\n",
    "# Liste 4 sur le thème 'vote'\n",
    "liste_4 = [\n",
    "    \"iwillvote\",\n",
    "    \"govote\",\n",
    "    \"uselection\",\n",
    "    \"vote\",\n",
    "]\n",
    "\n",
    "# Liste 5 sur le thème 'election'\n",
    "liste_5 = [\n",
    "    \"uselection\",\n",
    "    \"president\",\n",
    "    \"presidentialelection\",\n",
    "    \"presidential\",\n",
    "    \"electionnight\",\n",
    "]"
   ]
  },
  {
   "source": [
    "Pour cela, nous avons utilisé le module python `tweepy` ainsi que les fonctions codées dans le module `streaming` (voir la documentation pour plus d'information sur [`start_stream`](https://gwatkinson.github.io/projet-python-twitter/streaming.html#projet_python_twitter.streaming.start_stream)). Voici un exemple d'utilisation du code que nous avons écrit :"
   ],
   "cell_type": "markdown",
   "metadata": {}
  },
  {
   "cell_type": "code",
   "execution_count": 2,
   "metadata": {},
   "outputs": [
    {
     "output_type": "stream",
     "name": "stdout",
     "text": [
      "Début du stream\n",
      "WARNING: Limitation notice received, tweets missed: 35\n",
      "WARNING: Limitation notice received, tweets missed: 99\n",
      "WARNING: Limitation notice received, tweets missed: 142\n",
      "Progress: [------------------->] 100 %\n",
      "Les 200 tweets ont été récupérés.\n",
      "Le stream a duré : 0.0h\n",
      "Fin du stream\n"
     ]
    }
   ],
   "source": [
    "import projet.streaming as stream                           # Contient les fonctions pour le streaming\n",
    "import projet.listes_mots as listes                         # Contient les listes de mots\n",
    "import projet._credentials as cred                          # Contient les clés d'authentification à l'API\n",
    "\n",
    "credentials = stream.CredentialsClass(cred.credentials)     # Pour se connecter à l'API (il faut le fichier projet/_credentials.py)\n",
    "\n",
    "stream.start_stream(\n",
    "    credentials=credentials,\n",
    "    liste_mots=listes.liste_3,                              # Liste des mots à tracker (voir `projet.listes_mots`)\n",
    "    nb=200,                                                 # Nombre de tweets à recupérer\n",
    "    # timeout=10/3600,                                        # Durée du stream\n",
    "    fprefix=\"exemple_liste_3\",                              # À modifier en fonction de la liste selectionnée\n",
    "    path=\"./data/json/\",                                    # À modifier selon l'utilisateur (doit finir par \"/\" ou \"\\\")\n",
    "    verbose=True,\n",
    ")"
   ]
  },
  {
   "source": [
    "Un fichier `json` a été créé dans `data/json/`.\n",
    "\n",
    "Pour voir à quoi ressemble les données :"
   ],
   "cell_type": "markdown",
   "metadata": {}
  },
  {
   "cell_type": "code",
   "execution_count": 3,
   "metadata": {
    "tags": []
   },
   "outputs": [
    {
     "output_type": "stream",
     "name": "stdout",
     "text": [
      "On regarde le fichier : data\\json\\exemple_liste_3_20201210-214957.json\n\nLe premier tweet :\n{'created_at': 'Thu Dec 10 20:49:52 +0000 2020', 'id': 1337137480613711876, 'id_str': '1337137480613711876', 'text': \"RT @bradheath: Pennsylvania also notes that Texas' ridiculous statistical analysis of how improbable it would be for Biden to have won the…\", 'source': '<a href=\"http://twitter.com/#!/download/ipad\" rel=\"nofollow\">Twitter for iPad</a>', 'truncated': False, 'in_reply_to_status_id': None, 'in_reply_to_status_id_str': None, 'in_reply_to_user_id': None, 'in_reply_to_user_id_str': None, 'in_reply_to_screen_name': None, 'user': {'id': 275619035, 'id_str': '275619035', 'name': 'Sam Burling', 'screen_name': 'wolfpac_five', 'location': 'Rhode Island', 'url': None, 'description': 'soccer fan, veteran, runner, views expressed are my own. Proud father to an Angel Baby and a Rainbow Daughter.', 'translator_type': 'none', 'protected': False, 'verified': False, 'followers_count': 322, 'friends_count': 711, 'listed_count': 36, 'favourites_count': 41061, 'statuses_count': 164532, 'created_at': 'Fri Apr 01 17:03:23 +0000 2011', 'utc_offset': None, 'time_zone': None, 'geo_enabled': False, 'lang': None, 'contributors_enabled': False, 'is_translator': False, 'profile_background_color': 'C0DEED', 'profile_background_image_url': 'http://abs.twimg.com/images/themes/theme1/bg.png', 'profile_background_image_url_https': 'https://abs.twimg.com/images/themes/theme1/bg.png', 'profile_background_tile': False, 'profile_link_color': '1DA1F2', 'profile_sidebar_border_color': 'C0DEED', 'profile_sidebar_fill_color': 'DDEEF6', 'profile_text_color': '333333', 'profile_use_background_image': True, 'profile_image_url': 'http://pbs.twimg.com/profile_images/800508710850273281/Qf5L1J7l_normal.jpg', 'profile_image_url_https': 'https://pbs.twimg.com/profile_images/800508710850273281/Qf5L1J7l_normal.jpg', 'profile_banner_url': 'https://pbs.twimg.com/profile_banners/275619035/1479691159', 'default_profile': True, 'default_profile_image': False, 'following': None, 'follow_request_sent': None, 'notifications': None}, 'geo': None, 'coordinates': None, 'place': None, 'contributors': None, 'retweeted_status': {'created_at': 'Thu Dec 10 19:52:48 +0000 2020', 'id': 1337123118746316800, 'id_str': '1337123118746316800', 'text': \"Pennsylvania also notes that Texas' ridiculous statistical analysis of how improbable it would be for Biden to have… https://t.co/1UERpJ90YH\", 'display_text_range': [0, 140], 'source': '<a href=\"https://mobile.twitter.com\" rel=\"nofollow\">Twitter Web App</a>', 'truncated': True, 'in_reply_to_status_id': 1337121068637691905, 'in_reply_to_status_id_str': '1337121068637691905', 'in_reply_to_user_id': 14362404, 'in_reply_to_user_id_str': '14362404', 'in_reply_to_screen_name': 'bradheath', 'user': {'id': 14362404, 'id_str': '14362404', 'name': 'Brad Heath', 'screen_name': 'bradheath', 'location': 'Washington', 'url': 'http://bradheath.org/contact', 'description': 'DC reporter for @reuters on crime and justice. Ex-@usatoday. \\n\\nData, documents and \"convoluted KGB style back-door\" stuff. \\n\\n202-527-9709, brad.heath@tr.com', 'translator_type': 'none', 'protected': False, 'verified': True, 'followers_count': 116069, 'friends_count': 1209, 'listed_count': 2091, 'favourites_count': 5922, 'statuses_count': 42821, 'created_at': 'Fri Apr 11 16:45:09 +0000 2008', 'utc_offset': None, 'time_zone': None, 'geo_enabled': False, 'lang': None, 'contributors_enabled': False, 'is_translator': False, 'profile_background_color': '131516', 'profile_background_image_url': 'http://abs.twimg.com/images/themes/theme14/bg.gif', 'profile_background_image_url_https': 'https://abs.twimg.com/images/themes/theme14/bg.gif', 'profile_background_tile': True, 'profile_link_color': '336699', 'profile_sidebar_border_color': 'FFFFFF', 'profile_sidebar_fill_color': 'EFEFEF', 'profile_text_color': '333333', 'profile_use_background_image': True, 'profile_image_url': 'http://pbs.twimg.com/profile_images/1058483170667040768/PjNCtHgg_normal.jpg', 'profile_image_url_https': 'https://pbs.twimg.com/profile_images/1058483170667040768/PjNCtHgg_normal.jpg', 'profile_banner_url': 'https://pbs.twimg.com/profile_banners/14362404/1607211416', 'default_profile': False, 'default_profile_image': False, 'following': None, 'follow_request_sent': None, 'notifications': None}, 'geo': None, 'coordinates': None, 'place': None, 'contributors': None, 'is_quote_status': False, 'extended_tweet': {'full_text': \"Pennsylvania also notes that Texas' ridiculous statistical analysis of how improbable it would be for Biden to have won the election if everybody voted exactly as they had in 2016 is, in fact, ridiculous. https://t.co/DrB3Vf04Ce\", 'display_text_range': [0, 204], 'entities': {'hashtags': [], 'urls': [], 'user_mentions': [], 'symbols': [], 'media': [{'id': 1337123107715342336, 'id_str': '1337123107715342336', 'indices': [205, 228], 'media_url': 'http://pbs.twimg.com/media/Eo5qYdBW4AAVGwD.png', 'media_url_https': 'https://pbs.twimg.com/media/Eo5qYdBW4AAVGwD.png', 'url': 'https://t.co/DrB3Vf04Ce', 'display_url': 'pic.twitter.com/DrB3Vf04Ce', 'expanded_url': 'https://twitter.com/bradheath/status/1337123118746316800/photo/1', 'type': 'photo', 'sizes': {'medium': {'w': 885, 'h': 395, 'resize': 'fit'}, 'small': {'w': 680, 'h': 304, 'resize': 'fit'}, 'large': {'w': 885, 'h': 395, 'resize': 'fit'}, 'thumb': {'w': 150, 'h': 150, 'resize': 'crop'}}}]}, 'extended_entities': {'media': [{'id': 1337123107715342336, 'id_str': '1337123107715342336', 'indices': [205, 228], 'media_url': 'http://pbs.twimg.com/media/Eo5qYdBW4AAVGwD.png', 'media_url_https': 'https://pbs.twimg.com/media/Eo5qYdBW4AAVGwD.png', 'url': 'https://t.co/DrB3Vf04Ce', 'display_url': 'pic.twitter.com/DrB3Vf04Ce', 'expanded_url': 'https://twitter.com/bradheath/status/1337123118746316800/photo/1', 'type': 'photo', 'sizes': {'medium': {'w': 885, 'h': 395, 'resize': 'fit'}, 'small': {'w': 680, 'h': 304, 'resize': 'fit'}, 'large': {'w': 885, 'h': 395, 'resize': 'fit'}, 'thumb': {'w': 150, 'h': 150, 'resize': 'crop'}}}]}}, 'quote_count': 14, 'reply_count': 43, 'retweet_count': 93, 'favorite_count': 659, 'entities': {'hashtags': [], 'urls': [{'url': 'https://t.co/1UERpJ90YH', 'expanded_url': 'https://twitter.com/i/web/status/1337123118746316800', 'display_url': 'twitter.com/i/web/status/1…', 'indices': [117, 140]}], 'user_mentions': [], 'symbols': []}, 'favorited': False, 'retweeted': False, 'possibly_sensitive': False, 'filter_level': 'low', 'lang': 'en'}, 'is_quote_status': False, 'quote_count': 0, 'reply_count': 0, 'retweet_count': 0, 'favorite_count': 0, 'entities': {'hashtags': [], 'urls': [], 'user_mentions': [{'screen_name': 'bradheath', 'name': 'Brad Heath', 'id': 14362404, 'id_str': '14362404', 'indices': [3, 13]}], 'symbols': []}, 'favorited': False, 'retweeted': False, 'filter_level': 'low', 'lang': 'en', 'timestamp_ms': '1607633392848'}\n"
     ]
    }
   ],
   "source": [
    "import glob\n",
    "import json\n",
    "import pandas as pd\n",
    "\n",
    "path = glob.glob(\"data/json/exemple_liste_3*.json\")[-1]  # On récupère le dernier fichier exemple crée\n",
    "print(\"On regarde le fichier : \"+path+\"\\n\")\n",
    "\n",
    "tweets_list = []\n",
    "with open(path, \"r\") as fh:\n",
    "    file = fh.read().split(\"\\n\")\n",
    "    for line in file:\n",
    "        if line:\n",
    "            tweets_list.append(json.loads(line))\n",
    "\n",
    "print(\"Le premier tweet :\")\n",
    "print(tweets_list[0])\n"
   ]
  },
  {
   "source": [
    "Il s'agit du format `json`. Il est difficile de voir les variable comme cela. On peut créer une `dataframe pandas` pour mieux comprendre les données."
   ],
   "cell_type": "markdown",
   "metadata": {}
  },
  {
   "cell_type": "code",
   "execution_count": 4,
   "metadata": {},
   "outputs": [
    {
     "output_type": "execute_result",
     "data": {
      "text/plain": [
       "                       created_at                   id               id_str  \\\n",
       "0  Thu Dec 10 20:49:52 +0000 2020  1337137480613711876  1337137480613711876   \n",
       "1  Thu Dec 10 20:49:52 +0000 2020  1337137480290676737  1337137480290676737   \n",
       "2  Thu Dec 10 20:49:52 +0000 2020  1337137480609509395  1337137480609509395   \n",
       "3  Thu Dec 10 20:49:52 +0000 2020  1337137480592711684  1337137480592711684   \n",
       "4  Thu Dec 10 20:49:52 +0000 2020  1337137480642990081  1337137480642990081   \n",
       "\n",
       "                                                text  \\\n",
       "0  RT @bradheath: Pennsylvania also notes that Te...   \n",
       "1           @realDonaldTrump https://t.co/i4oh7r8VGa   \n",
       "2                                            Treason   \n",
       "3  RT @gatewaypundit: President Trump Tweets - \"P...   \n",
       "4  RT @RealMattCouch: Any AG in a state that Pres...   \n",
       "\n",
       "                                              source  truncated  \\\n",
       "0  <a href=\"http://twitter.com/#!/download/ipad\" ...      False   \n",
       "1  <a href=\"http://twitter.com/download/iphone\" r...      False   \n",
       "2  <a href=\"https://mobile.twitter.com\" rel=\"nofo...      False   \n",
       "3  <a href=\"http://twitter.com/download/iphone\" r...      False   \n",
       "4  <a href=\"http://twitter.com/download/iphone\" r...      False   \n",
       "\n",
       "   in_reply_to_status_id in_reply_to_status_id_str  in_reply_to_user_id  \\\n",
       "0                    NaN                      None                  NaN   \n",
       "1           1.337131e+18       1337131119632916481           25073877.0   \n",
       "2                    NaN                      None                  NaN   \n",
       "3                    NaN                      None                  NaN   \n",
       "4                    NaN                      None                  NaN   \n",
       "\n",
       "  in_reply_to_user_id_str  ... lang   timestamp_ms display_text_range  \\\n",
       "0                    None  ...   en  1607633392848                NaN   \n",
       "1                25073877  ...  und  1607633392771           [16, 16]   \n",
       "2                    None  ...   en  1607633392847                NaN   \n",
       "3                    None  ...   en  1607633392843                NaN   \n",
       "4                    None  ...   en  1607633392855                NaN   \n",
       "\n",
       "                                   extended_entities possibly_sensitive  \\\n",
       "0                                                NaN                NaN   \n",
       "1  {'media': [{'id': 1337137475563753472, 'id_str...              False   \n",
       "2                                                NaN                NaN   \n",
       "3                                                NaN                NaN   \n",
       "4                                                NaN                NaN   \n",
       "\n",
       "  quoted_status_id quoted_status_id_str  \\\n",
       "0              NaN                  NaN   \n",
       "1              NaN                  NaN   \n",
       "2     1.337136e+18  1337135543373733889   \n",
       "3              NaN                  NaN   \n",
       "4              NaN                  NaN   \n",
       "\n",
       "                                       quoted_status  \\\n",
       "0                                                NaN   \n",
       "1                                                NaN   \n",
       "2  {'created_at': 'Thu Dec 10 20:42:10 +0000 2020...   \n",
       "3                                                NaN   \n",
       "4                                                NaN   \n",
       "\n",
       "                             quoted_status_permalink  extended_tweet  \n",
       "0                                                NaN             NaN  \n",
       "1                                                NaN             NaN  \n",
       "2  {'url': 'https://t.co/UaQQUAtixW', 'expanded':...             NaN  \n",
       "3                                                NaN             NaN  \n",
       "4                                                NaN             NaN  \n",
       "\n",
       "[5 rows x 36 columns]"
      ],
      "text/html": "<div>\n<style scoped>\n    .dataframe tbody tr th:only-of-type {\n        vertical-align: middle;\n    }\n\n    .dataframe tbody tr th {\n        vertical-align: top;\n    }\n\n    .dataframe thead th {\n        text-align: right;\n    }\n</style>\n<table border=\"1\" class=\"dataframe\">\n  <thead>\n    <tr style=\"text-align: right;\">\n      <th></th>\n      <th>created_at</th>\n      <th>id</th>\n      <th>id_str</th>\n      <th>text</th>\n      <th>source</th>\n      <th>truncated</th>\n      <th>in_reply_to_status_id</th>\n      <th>in_reply_to_status_id_str</th>\n      <th>in_reply_to_user_id</th>\n      <th>in_reply_to_user_id_str</th>\n      <th>...</th>\n      <th>lang</th>\n      <th>timestamp_ms</th>\n      <th>display_text_range</th>\n      <th>extended_entities</th>\n      <th>possibly_sensitive</th>\n      <th>quoted_status_id</th>\n      <th>quoted_status_id_str</th>\n      <th>quoted_status</th>\n      <th>quoted_status_permalink</th>\n      <th>extended_tweet</th>\n    </tr>\n  </thead>\n  <tbody>\n    <tr>\n      <th>0</th>\n      <td>Thu Dec 10 20:49:52 +0000 2020</td>\n      <td>1337137480613711876</td>\n      <td>1337137480613711876</td>\n      <td>RT @bradheath: Pennsylvania also notes that Te...</td>\n      <td>&lt;a href=\"http://twitter.com/#!/download/ipad\" ...</td>\n      <td>False</td>\n      <td>NaN</td>\n      <td>None</td>\n      <td>NaN</td>\n      <td>None</td>\n      <td>...</td>\n      <td>en</td>\n      <td>1607633392848</td>\n      <td>NaN</td>\n      <td>NaN</td>\n      <td>NaN</td>\n      <td>NaN</td>\n      <td>NaN</td>\n      <td>NaN</td>\n      <td>NaN</td>\n      <td>NaN</td>\n    </tr>\n    <tr>\n      <th>1</th>\n      <td>Thu Dec 10 20:49:52 +0000 2020</td>\n      <td>1337137480290676737</td>\n      <td>1337137480290676737</td>\n      <td>@realDonaldTrump https://t.co/i4oh7r8VGa</td>\n      <td>&lt;a href=\"http://twitter.com/download/iphone\" r...</td>\n      <td>False</td>\n      <td>1.337131e+18</td>\n      <td>1337131119632916481</td>\n      <td>25073877.0</td>\n      <td>25073877</td>\n      <td>...</td>\n      <td>und</td>\n      <td>1607633392771</td>\n      <td>[16, 16]</td>\n      <td>{'media': [{'id': 1337137475563753472, 'id_str...</td>\n      <td>False</td>\n      <td>NaN</td>\n      <td>NaN</td>\n      <td>NaN</td>\n      <td>NaN</td>\n      <td>NaN</td>\n    </tr>\n    <tr>\n      <th>2</th>\n      <td>Thu Dec 10 20:49:52 +0000 2020</td>\n      <td>1337137480609509395</td>\n      <td>1337137480609509395</td>\n      <td>Treason</td>\n      <td>&lt;a href=\"https://mobile.twitter.com\" rel=\"nofo...</td>\n      <td>False</td>\n      <td>NaN</td>\n      <td>None</td>\n      <td>NaN</td>\n      <td>None</td>\n      <td>...</td>\n      <td>en</td>\n      <td>1607633392847</td>\n      <td>NaN</td>\n      <td>NaN</td>\n      <td>NaN</td>\n      <td>1.337136e+18</td>\n      <td>1337135543373733889</td>\n      <td>{'created_at': 'Thu Dec 10 20:42:10 +0000 2020...</td>\n      <td>{'url': 'https://t.co/UaQQUAtixW', 'expanded':...</td>\n      <td>NaN</td>\n    </tr>\n    <tr>\n      <th>3</th>\n      <td>Thu Dec 10 20:49:52 +0000 2020</td>\n      <td>1337137480592711684</td>\n      <td>1337137480592711684</td>\n      <td>RT @gatewaypundit: President Trump Tweets - \"P...</td>\n      <td>&lt;a href=\"http://twitter.com/download/iphone\" r...</td>\n      <td>False</td>\n      <td>NaN</td>\n      <td>None</td>\n      <td>NaN</td>\n      <td>None</td>\n      <td>...</td>\n      <td>en</td>\n      <td>1607633392843</td>\n      <td>NaN</td>\n      <td>NaN</td>\n      <td>NaN</td>\n      <td>NaN</td>\n      <td>NaN</td>\n      <td>NaN</td>\n      <td>NaN</td>\n      <td>NaN</td>\n    </tr>\n    <tr>\n      <th>4</th>\n      <td>Thu Dec 10 20:49:52 +0000 2020</td>\n      <td>1337137480642990081</td>\n      <td>1337137480642990081</td>\n      <td>RT @RealMattCouch: Any AG in a state that Pres...</td>\n      <td>&lt;a href=\"http://twitter.com/download/iphone\" r...</td>\n      <td>False</td>\n      <td>NaN</td>\n      <td>None</td>\n      <td>NaN</td>\n      <td>None</td>\n      <td>...</td>\n      <td>en</td>\n      <td>1607633392855</td>\n      <td>NaN</td>\n      <td>NaN</td>\n      <td>NaN</td>\n      <td>NaN</td>\n      <td>NaN</td>\n      <td>NaN</td>\n      <td>NaN</td>\n      <td>NaN</td>\n    </tr>\n  </tbody>\n</table>\n<p>5 rows × 36 columns</p>\n</div>"
     },
     "metadata": {},
     "execution_count": 4
    }
   ],
   "source": [
    "df_tweets = pd.DataFrame(tweets_list)\n",
    "df_tweets.head()"
   ]
  },
  {
   "cell_type": "code",
   "execution_count": 5,
   "metadata": {},
   "outputs": [
    {
     "output_type": "stream",
     "name": "stdout",
     "text": [
      "Dimensions :  (200, 36)\n"
     ]
    }
   ],
   "source": [
    "print(\"Dimensions : \", df_tweets.shape)"
   ]
  },
  {
   "cell_type": "code",
   "execution_count": 6,
   "metadata": {},
   "outputs": [
    {
     "output_type": "stream",
     "name": "stdout",
     "text": [
      "Colonnes :\n\ncreated_at\nid\nid_str\ntext\nsource\ntruncated\nin_reply_to_status_id\nin_reply_to_status_id_str\nin_reply_to_user_id\nin_reply_to_user_id_str\nin_reply_to_screen_name\nuser\ngeo\ncoordinates\nplace\ncontributors\nretweeted_status\nis_quote_status\nquote_count\nreply_count\nretweet_count\nfavorite_count\nentities\nfavorited\nretweeted\nfilter_level\nlang\ntimestamp_ms\ndisplay_text_range\nextended_entities\npossibly_sensitive\nquoted_status_id\nquoted_status_id_str\nquoted_status\nquoted_status_permalink\nextended_tweet\n"
     ]
    }
   ],
   "source": [
    "print(\"Colonnes :\\n\")\n",
    "for name in list(df_tweets):\n",
    "    print(name)"
   ]
  },
  {
   "source": [
    "## 2) Modélisation <a name=\"model\"></a>"
   ],
   "cell_type": "markdown",
   "metadata": {}
  },
  {
   "source": [
    "### a. Preprocessing <a name=\"process\"></a>"
   ],
   "cell_type": "markdown",
   "metadata": {}
  },
  {
   "source": [
    "Nous avons fait une fonction qui fait les étapes précédentes ainsi que des fonctions pour nettoyer les données. Elles sont dans le fichier `processing.py`."
   ],
   "cell_type": "markdown",
   "metadata": {}
  },
  {
   "cell_type": "code",
   "execution_count": 1,
   "metadata": {},
   "outputs": [
    {
     "output_type": "stream",
     "name": "stderr",
     "text": [
      "[nltk_data] Downloading package vader_lexicon to\n",
      "[nltk_data]     C:\\Users\\gabri\\AppData\\Roaming\\nltk_data...\n",
      "[nltk_data]   Package vader_lexicon is already up-to-date!\n",
      "La conversion des fichiers 'json' a commencé, cela peut prendre du temps\n",
      "File 1/8: [------------------>] 100 %\n",
      "File 2/8: [------------------>] 100 %\n",
      "File 3/8: [------------------>] 100 %\n",
      "File 4/8: [------------------>] 100 %\n",
      "File 5/8: [------------------>] 100 %\n",
      "File 6/8: [------------------>] 100 %\n",
      "File 7/8: [------------------>] 100 %\n",
      "File 8/8: [------------------>] 100 %\n"
     ]
    }
   ],
   "source": [
    "import projet.processing as process                         # Contient les fonctions pour le processing de la dataframe\n",
    "\n",
    "folder = \"./data/json/\"                                     # Pour écupèrer tous les fichiers json dans le dossier 'data/json/'\n",
    "\n",
    "dirty_df = process.tweet_json_to_df(folder=folder, verbose=True)     # Convertit les json en dataframe pandas\n"
   ]
  },
  {
   "source": [
    "Nous avons ainsi récupérer les fichiers dans `data/json/` dans la dataframe pandas `dirty_df`.\n",
    "\n",
    "Elle ressemble à :"
   ],
   "cell_type": "markdown",
   "metadata": {}
  },
  {
   "cell_type": "code",
   "execution_count": 4,
   "metadata": {},
   "outputs": [
    {
     "output_type": "execute_result",
     "data": {
      "text/plain": [
       "                       created_at                   id               id_str  \\\n",
       "0  Thu Dec 10 11:02:36 +0000 2020  1336989688167587848  1336989688167587848   \n",
       "1  Thu Dec 10 11:02:36 +0000 2020  1336989688154869760  1336989688154869760   \n",
       "2  Thu Dec 10 11:02:36 +0000 2020  1336989688565964801  1336989688565964801   \n",
       "3  Thu Dec 10 11:02:36 +0000 2020  1336989688612220928  1336989688612220928   \n",
       "4  Thu Dec 10 11:02:36 +0000 2020  1336989688612212736  1336989688612212736   \n",
       "\n",
       "                                                text  \\\n",
       "0  RT @SebGorka: I’m telling President @realDonal...   \n",
       "1  RT @LilyMasonPhD: The fact that most GOP leade...   \n",
       "2  RT @WalshFreedom: I love democracy.\\n\\nSo fuck...   \n",
       "3  @Thinkingifree17 @llgraves @AngelaBelcamino @r...   \n",
       "4  RT @jenniferatntd: So evil! And he admitted th...   \n",
       "\n",
       "                                              source  truncated  \\\n",
       "0  <a href=\"http://twitter.com/download/android\" ...      False   \n",
       "1  <a href=\"http://twitter.com/download/iphone\" r...      False   \n",
       "2  <a href=\"http://twitter.com/download/iphone\" r...      False   \n",
       "3  <a href=\"http://twitter.com/download/android\" ...      False   \n",
       "4  <a href=\"http://twitter.com/download/android\" ...      False   \n",
       "\n",
       "   in_reply_to_status_id in_reply_to_status_id_str  in_reply_to_user_id  \\\n",
       "0                    NaN                      None                  NaN   \n",
       "1                    NaN                      None                  NaN   \n",
       "2                    NaN                      None                  NaN   \n",
       "3           1.336982e+18       1336981556540403712         8.482265e+17   \n",
       "4                    NaN                      None                  NaN   \n",
       "\n",
       "  in_reply_to_user_id_str  ... lang   timestamp_ms quoted_status_id  \\\n",
       "0                    None  ...   en  1607598156383              NaN   \n",
       "1                    None  ...   en  1607598156380     1.336790e+18   \n",
       "2                    None  ...   en  1607598156478              NaN   \n",
       "3      848226546624200704  ...   en  1607598156489              NaN   \n",
       "4                    None  ...   en  1607598156489              NaN   \n",
       "\n",
       "  quoted_status_id_str                                      quoted_status  \\\n",
       "0                  NaN                                                NaN   \n",
       "1  1336790252963303425  {'created_at': 'Wed Dec 09 21:50:07 +0000 2020...   \n",
       "2                  NaN                                                NaN   \n",
       "3                  NaN                                                NaN   \n",
       "4                  NaN                                                NaN   \n",
       "\n",
       "                             quoted_status_permalink display_text_range  \\\n",
       "0                                                NaN                NaN   \n",
       "1  {'url': 'https://t.co/W3VabzdvhV', 'expanded':...                NaN   \n",
       "2                                                NaN                NaN   \n",
       "3                                                NaN          [84, 128]   \n",
       "4                                                NaN                NaN   \n",
       "\n",
       "   possibly_sensitive  extended_tweet  extended_entities  \n",
       "0                 NaN             NaN                NaN  \n",
       "1                 NaN             NaN                NaN  \n",
       "2                 NaN             NaN                NaN  \n",
       "3                 NaN             NaN                NaN  \n",
       "4                 NaN             NaN                NaN  \n",
       "\n",
       "[5 rows x 36 columns]"
      ],
      "text/html": "<div>\n<style scoped>\n    .dataframe tbody tr th:only-of-type {\n        vertical-align: middle;\n    }\n\n    .dataframe tbody tr th {\n        vertical-align: top;\n    }\n\n    .dataframe thead th {\n        text-align: right;\n    }\n</style>\n<table border=\"1\" class=\"dataframe\">\n  <thead>\n    <tr style=\"text-align: right;\">\n      <th></th>\n      <th>created_at</th>\n      <th>id</th>\n      <th>id_str</th>\n      <th>text</th>\n      <th>source</th>\n      <th>truncated</th>\n      <th>in_reply_to_status_id</th>\n      <th>in_reply_to_status_id_str</th>\n      <th>in_reply_to_user_id</th>\n      <th>in_reply_to_user_id_str</th>\n      <th>...</th>\n      <th>lang</th>\n      <th>timestamp_ms</th>\n      <th>quoted_status_id</th>\n      <th>quoted_status_id_str</th>\n      <th>quoted_status</th>\n      <th>quoted_status_permalink</th>\n      <th>display_text_range</th>\n      <th>possibly_sensitive</th>\n      <th>extended_tweet</th>\n      <th>extended_entities</th>\n    </tr>\n  </thead>\n  <tbody>\n    <tr>\n      <th>0</th>\n      <td>Thu Dec 10 11:02:36 +0000 2020</td>\n      <td>1336989688167587848</td>\n      <td>1336989688167587848</td>\n      <td>RT @SebGorka: I’m telling President @realDonal...</td>\n      <td>&lt;a href=\"http://twitter.com/download/android\" ...</td>\n      <td>False</td>\n      <td>NaN</td>\n      <td>None</td>\n      <td>NaN</td>\n      <td>None</td>\n      <td>...</td>\n      <td>en</td>\n      <td>1607598156383</td>\n      <td>NaN</td>\n      <td>NaN</td>\n      <td>NaN</td>\n      <td>NaN</td>\n      <td>NaN</td>\n      <td>NaN</td>\n      <td>NaN</td>\n      <td>NaN</td>\n    </tr>\n    <tr>\n      <th>1</th>\n      <td>Thu Dec 10 11:02:36 +0000 2020</td>\n      <td>1336989688154869760</td>\n      <td>1336989688154869760</td>\n      <td>RT @LilyMasonPhD: The fact that most GOP leade...</td>\n      <td>&lt;a href=\"http://twitter.com/download/iphone\" r...</td>\n      <td>False</td>\n      <td>NaN</td>\n      <td>None</td>\n      <td>NaN</td>\n      <td>None</td>\n      <td>...</td>\n      <td>en</td>\n      <td>1607598156380</td>\n      <td>1.336790e+18</td>\n      <td>1336790252963303425</td>\n      <td>{'created_at': 'Wed Dec 09 21:50:07 +0000 2020...</td>\n      <td>{'url': 'https://t.co/W3VabzdvhV', 'expanded':...</td>\n      <td>NaN</td>\n      <td>NaN</td>\n      <td>NaN</td>\n      <td>NaN</td>\n    </tr>\n    <tr>\n      <th>2</th>\n      <td>Thu Dec 10 11:02:36 +0000 2020</td>\n      <td>1336989688565964801</td>\n      <td>1336989688565964801</td>\n      <td>RT @WalshFreedom: I love democracy.\\n\\nSo fuck...</td>\n      <td>&lt;a href=\"http://twitter.com/download/iphone\" r...</td>\n      <td>False</td>\n      <td>NaN</td>\n      <td>None</td>\n      <td>NaN</td>\n      <td>None</td>\n      <td>...</td>\n      <td>en</td>\n      <td>1607598156478</td>\n      <td>NaN</td>\n      <td>NaN</td>\n      <td>NaN</td>\n      <td>NaN</td>\n      <td>NaN</td>\n      <td>NaN</td>\n      <td>NaN</td>\n      <td>NaN</td>\n    </tr>\n    <tr>\n      <th>3</th>\n      <td>Thu Dec 10 11:02:36 +0000 2020</td>\n      <td>1336989688612220928</td>\n      <td>1336989688612220928</td>\n      <td>@Thinkingifree17 @llgraves @AngelaBelcamino @r...</td>\n      <td>&lt;a href=\"http://twitter.com/download/android\" ...</td>\n      <td>False</td>\n      <td>1.336982e+18</td>\n      <td>1336981556540403712</td>\n      <td>8.482265e+17</td>\n      <td>848226546624200704</td>\n      <td>...</td>\n      <td>en</td>\n      <td>1607598156489</td>\n      <td>NaN</td>\n      <td>NaN</td>\n      <td>NaN</td>\n      <td>NaN</td>\n      <td>[84, 128]</td>\n      <td>NaN</td>\n      <td>NaN</td>\n      <td>NaN</td>\n    </tr>\n    <tr>\n      <th>4</th>\n      <td>Thu Dec 10 11:02:36 +0000 2020</td>\n      <td>1336989688612212736</td>\n      <td>1336989688612212736</td>\n      <td>RT @jenniferatntd: So evil! And he admitted th...</td>\n      <td>&lt;a href=\"http://twitter.com/download/android\" ...</td>\n      <td>False</td>\n      <td>NaN</td>\n      <td>None</td>\n      <td>NaN</td>\n      <td>None</td>\n      <td>...</td>\n      <td>en</td>\n      <td>1607598156489</td>\n      <td>NaN</td>\n      <td>NaN</td>\n      <td>NaN</td>\n      <td>NaN</td>\n      <td>NaN</td>\n      <td>NaN</td>\n      <td>NaN</td>\n      <td>NaN</td>\n    </tr>\n  </tbody>\n</table>\n<p>5 rows × 36 columns</p>\n</div>"
     },
     "metadata": {},
     "execution_count": 4
    }
   ],
   "source": [
    "\n",
    "dirty_df.head()"
   ]
  },
  {
   "source": [
    "On peut ensuite utiliser `clean_df` pour nettoyer la base de donnée en conservant seulement les informations qui nous interressent. On peut aussi utiliser une liste de `listes_variables` pour récupérer d'autres variables ou en ajouter dans l'option `extra` de `clean_df`."
   ],
   "cell_type": "markdown",
   "metadata": {}
  },
  {
   "cell_type": "code",
   "execution_count": 2,
   "metadata": {},
   "outputs": [
    {
     "output_type": "stream",
     "name": "stdout",
     "text": [
      "Le nettoyage a commencé\n",
      "Progress: [------------------->] 100 %\n"
     ]
    }
   ],
   "source": [
    "clean_df = process.clean_df(dirty_df, verbose=True)"
   ]
  },
  {
   "cell_type": "code",
   "execution_count": 3,
   "metadata": {},
   "outputs": [],
   "source": [
    "text_df = process.create_full_text(clean_df)"
   ]
  },
  {
   "cell_type": "code",
   "execution_count": 8,
   "metadata": {},
   "outputs": [],
   "source": [
    "politic_df = process.add_politics(text_df)"
   ]
  },
  {
   "cell_type": "code",
   "execution_count": 9,
   "metadata": {},
   "outputs": [
    {
     "output_type": "execute_result",
     "data": {
      "text/plain": [
       "                                                             full_text  \\\n",
       "id                                                                       \n",
       "1336989688167587848  I’m telling President @realDonaldTrump to stri...   \n",
       "1336989688154869760  The fact that most GOP leaders don't condemn a...   \n",
       "1336989688565964801  I love democracy.\\n\\nSo fuck Trump. And fuck m...   \n",
       "1336989688612220928  @Thinkingifree17 @llgraves @AngelaBelcamino @r...   \n",
       "1336989688612212736  So evil! And he admitted the purpose of releas...   \n",
       "\n",
       "                     contains_trump  contains_biden  \n",
       "id                                                   \n",
       "1336989688167587848            True           False  \n",
       "1336989688154869760           False           False  \n",
       "1336989688565964801            True           False  \n",
       "1336989688612220928            True           False  \n",
       "1336989688612212736            True           False  "
      ],
      "text/html": "<div>\n<style scoped>\n    .dataframe tbody tr th:only-of-type {\n        vertical-align: middle;\n    }\n\n    .dataframe tbody tr th {\n        vertical-align: top;\n    }\n\n    .dataframe thead th {\n        text-align: right;\n    }\n</style>\n<table border=\"1\" class=\"dataframe\">\n  <thead>\n    <tr style=\"text-align: right;\">\n      <th></th>\n      <th>full_text</th>\n      <th>contains_trump</th>\n      <th>contains_biden</th>\n    </tr>\n    <tr>\n      <th>id</th>\n      <th></th>\n      <th></th>\n      <th></th>\n    </tr>\n  </thead>\n  <tbody>\n    <tr>\n      <th>1336989688167587848</th>\n      <td>I’m telling President @realDonaldTrump to stri...</td>\n      <td>True</td>\n      <td>False</td>\n    </tr>\n    <tr>\n      <th>1336989688154869760</th>\n      <td>The fact that most GOP leaders don't condemn a...</td>\n      <td>False</td>\n      <td>False</td>\n    </tr>\n    <tr>\n      <th>1336989688565964801</th>\n      <td>I love democracy.\\n\\nSo fuck Trump. And fuck m...</td>\n      <td>True</td>\n      <td>False</td>\n    </tr>\n    <tr>\n      <th>1336989688612220928</th>\n      <td>@Thinkingifree17 @llgraves @AngelaBelcamino @r...</td>\n      <td>True</td>\n      <td>False</td>\n    </tr>\n    <tr>\n      <th>1336989688612212736</th>\n      <td>So evil! And he admitted the purpose of releas...</td>\n      <td>True</td>\n      <td>False</td>\n    </tr>\n  </tbody>\n</table>\n</div>"
     },
     "metadata": {},
     "execution_count": 9
    }
   ],
   "source": [
    "politic_df[[\"full_text\", \"contains_trump\", \"contains_biden\"]].head()"
   ]
  },
  {
   "cell_type": "code",
   "execution_count": 51,
   "metadata": {},
   "outputs": [
    {
     "output_type": "stream",
     "name": "stderr",
     "text": [
      "[nltk_data] Downloading package vader_lexicon to\n[nltk_data]     C:\\Users\\gabri\\AppData\\Roaming\\nltk_data...\n[nltk_data]   Package vader_lexicon is already up-to-date!\n"
     ]
    },
    {
     "output_type": "execute_result",
     "data": {
      "text/plain": [
       "<module 'projet.processing' from 'c:\\\\Users\\\\gabri\\\\OneDrive\\\\Desktop\\\\projet-python-twitter\\\\projet\\\\processing.py'>"
      ]
     },
     "metadata": {},
     "execution_count": 51
    }
   ],
   "source": [
    "from importlib import reload\n",
    "reload(process)"
   ]
  },
  {
   "cell_type": "code",
   "execution_count": 47,
   "metadata": {},
   "outputs": [],
   "source": [
    "sentiment_df = process.add_sentiment(politic_df)"
   ]
  },
  {
   "cell_type": "code",
   "execution_count": 64,
   "metadata": {},
   "outputs": [
    {
     "output_type": "execute_result",
     "data": {
      "text/plain": [
       "<AxesSubplot:ylabel='Frequency'>"
      ]
     },
     "metadata": {},
     "execution_count": 64
    },
    {
     "output_type": "display_data",
     "data": {
      "text/plain": "<Figure size 432x288 with 1 Axes>",
      "image/svg+xml": "<?xml version=\"1.0\" encoding=\"utf-8\" standalone=\"no\"?>\r\n<!DOCTYPE svg PUBLIC \"-//W3C//DTD SVG 1.1//EN\"\r\n  \"http://www.w3.org/Graphics/SVG/1.1/DTD/svg11.dtd\">\r\n<!-- Created with matplotlib (https://matplotlib.org/) -->\r\n<svg height=\"248.518125pt\" version=\"1.1\" viewBox=\"0 0 388.965625 248.518125\" width=\"388.965625pt\" xmlns=\"http://www.w3.org/2000/svg\" xmlns:xlink=\"http://www.w3.org/1999/xlink\">\r\n <metadata>\r\n  <rdf:RDF xmlns:cc=\"http://creativecommons.org/ns#\" xmlns:dc=\"http://purl.org/dc/elements/1.1/\" xmlns:rdf=\"http://www.w3.org/1999/02/22-rdf-syntax-ns#\">\r\n   <cc:Work>\r\n    <dc:type rdf:resource=\"http://purl.org/dc/dcmitype/StillImage\"/>\r\n    <dc:date>2020-12-11T14:07:31.040069</dc:date>\r\n    <dc:format>image/svg+xml</dc:format>\r\n    <dc:creator>\r\n     <cc:Agent>\r\n      <dc:title>Matplotlib v3.3.2, https://matplotlib.org/</dc:title>\r\n     </cc:Agent>\r\n    </dc:creator>\r\n   </cc:Work>\r\n  </rdf:RDF>\r\n </metadata>\r\n <defs>\r\n  <style type=\"text/css\">*{stroke-linecap:butt;stroke-linejoin:round;}</style>\r\n </defs>\r\n <g id=\"figure_1\">\r\n  <g id=\"patch_1\">\r\n   <path d=\"M 0 248.518125 \r\nL 388.965625 248.518125 \r\nL 388.965625 0 \r\nL 0 0 \r\nz\r\n\" style=\"fill:none;\"/>\r\n  </g>\r\n  <g id=\"axes_1\">\r\n   <g id=\"patch_2\">\r\n    <path d=\"M 46.965625 224.64 \r\nL 381.765625 224.64 \r\nL 381.765625 7.2 \r\nL 46.965625 7.2 \r\nz\r\n\" style=\"fill:#ffffff;\"/>\r\n   </g>\r\n   <g id=\"patch_3\">\r\n    <path clip-path=\"url(#p8d6b4d513e)\" d=\"M 62.183807 224.64 \r\nL 92.62017 224.64 \r\nL 92.62017 217.834366 \r\nL 62.183807 217.834366 \r\nz\r\n\" style=\"fill:#1f77b4;\"/>\r\n   </g>\r\n   <g id=\"patch_4\">\r\n    <path clip-path=\"url(#p8d6b4d513e)\" d=\"M 92.62017 224.64 \r\nL 123.056534 224.64 \r\nL 123.056534 215.403783 \r\nL 92.62017 215.403783 \r\nz\r\n\" style=\"fill:#1f77b4;\"/>\r\n   </g>\r\n   <g id=\"patch_5\">\r\n    <path clip-path=\"url(#p8d6b4d513e)\" d=\"M 123.056534 224.64 \r\nL 153.492898 224.64 \r\nL 153.492898 209.084266 \r\nL 123.056534 209.084266 \r\nz\r\n\" style=\"fill:#1f77b4;\"/>\r\n   </g>\r\n   <g id=\"patch_6\">\r\n    <path clip-path=\"url(#p8d6b4d513e)\" d=\"M 153.492898 224.64 \r\nL 183.929261 224.64 \r\nL 183.929261 212.000966 \r\nL 153.492898 212.000966 \r\nz\r\n\" style=\"fill:#1f77b4;\"/>\r\n   </g>\r\n   <g id=\"patch_7\">\r\n    <path clip-path=\"url(#p8d6b4d513e)\" d=\"M 183.929261 224.64 \r\nL 214.365625 224.64 \r\nL 214.365625 17.554286 \r\nL 183.929261 17.554286 \r\nz\r\n\" style=\"fill:#1f77b4;\"/>\r\n   </g>\r\n   <g id=\"patch_8\">\r\n    <path clip-path=\"url(#p8d6b4d513e)\" d=\"M 214.365625 224.64 \r\nL 244.801989 224.64 \r\nL 244.801989 218.563541 \r\nL 214.365625 218.563541 \r\nz\r\n\" style=\"fill:#1f77b4;\"/>\r\n   </g>\r\n   <g id=\"patch_9\">\r\n    <path clip-path=\"url(#p8d6b4d513e)\" d=\"M 244.801989 224.64 \r\nL 275.238352 224.64 \r\nL 275.238352 201.06334 \r\nL 244.801989 201.06334 \r\nz\r\n\" style=\"fill:#1f77b4;\"/>\r\n   </g>\r\n   <g id=\"patch_10\">\r\n    <path clip-path=\"url(#p8d6b4d513e)\" d=\"M 275.238352 224.64 \r\nL 305.674716 224.64 \r\nL 305.674716 189.153481 \r\nL 275.238352 189.153481 \r\nz\r\n\" style=\"fill:#1f77b4;\"/>\r\n   </g>\r\n   <g id=\"patch_11\">\r\n    <path clip-path=\"url(#p8d6b4d513e)\" d=\"M 305.674716 224.64 \r\nL 336.11108 224.64 \r\nL 336.11108 187.452072 \r\nL 305.674716 187.452072 \r\nz\r\n\" style=\"fill:#1f77b4;\"/>\r\n   </g>\r\n   <g id=\"patch_12\">\r\n    <path clip-path=\"url(#p8d6b4d513e)\" d=\"M 336.11108 224.64 \r\nL 366.547443 224.64 \r\nL 366.547443 189.396539 \r\nL 336.11108 189.396539 \r\nz\r\n\" style=\"fill:#1f77b4;\"/>\r\n   </g>\r\n   <g id=\"matplotlib.axis_1\">\r\n    <g id=\"xtick_1\">\r\n     <g id=\"line2d_1\">\r\n      <defs>\r\n       <path d=\"M 0 0 \r\nL 0 3.5 \r\n\" id=\"m7994b39b8f\" style=\"stroke:#000000;stroke-width:0.8;\"/>\r\n      </defs>\r\n      <g>\r\n       <use style=\"stroke:#000000;stroke-width:0.8;\" x=\"49.057094\" xlink:href=\"#m7994b39b8f\" y=\"224.64\"/>\r\n      </g>\r\n     </g>\r\n     <g id=\"text_1\">\r\n      <!-- −1.00 -->\r\n      <g transform=\"translate(33.734438 239.238437)scale(0.1 -0.1)\">\r\n       <defs>\r\n        <path d=\"M 10.59375 35.5 \r\nL 73.1875 35.5 \r\nL 73.1875 27.203125 \r\nL 10.59375 27.203125 \r\nz\r\n\" id=\"DejaVuSans-8722\"/>\r\n        <path d=\"M 12.40625 8.296875 \r\nL 28.515625 8.296875 \r\nL 28.515625 63.921875 \r\nL 10.984375 60.40625 \r\nL 10.984375 69.390625 \r\nL 28.421875 72.90625 \r\nL 38.28125 72.90625 \r\nL 38.28125 8.296875 \r\nL 54.390625 8.296875 \r\nL 54.390625 0 \r\nL 12.40625 0 \r\nz\r\n\" id=\"DejaVuSans-49\"/>\r\n        <path d=\"M 10.6875 12.40625 \r\nL 21 12.40625 \r\nL 21 0 \r\nL 10.6875 0 \r\nz\r\n\" id=\"DejaVuSans-46\"/>\r\n        <path d=\"M 31.78125 66.40625 \r\nQ 24.171875 66.40625 20.328125 58.90625 \r\nQ 16.5 51.421875 16.5 36.375 \r\nQ 16.5 21.390625 20.328125 13.890625 \r\nQ 24.171875 6.390625 31.78125 6.390625 \r\nQ 39.453125 6.390625 43.28125 13.890625 \r\nQ 47.125 21.390625 47.125 36.375 \r\nQ 47.125 51.421875 43.28125 58.90625 \r\nQ 39.453125 66.40625 31.78125 66.40625 \r\nz\r\nM 31.78125 74.21875 \r\nQ 44.046875 74.21875 50.515625 64.515625 \r\nQ 56.984375 54.828125 56.984375 36.375 \r\nQ 56.984375 17.96875 50.515625 8.265625 \r\nQ 44.046875 -1.421875 31.78125 -1.421875 \r\nQ 19.53125 -1.421875 13.0625 8.265625 \r\nQ 6.59375 17.96875 6.59375 36.375 \r\nQ 6.59375 54.828125 13.0625 64.515625 \r\nQ 19.53125 74.21875 31.78125 74.21875 \r\nz\r\n\" id=\"DejaVuSans-48\"/>\r\n       </defs>\r\n       <use xlink:href=\"#DejaVuSans-8722\"/>\r\n       <use x=\"83.789062\" xlink:href=\"#DejaVuSans-49\"/>\r\n       <use x=\"147.412109\" xlink:href=\"#DejaVuSans-46\"/>\r\n       <use x=\"179.199219\" xlink:href=\"#DejaVuSans-48\"/>\r\n       <use x=\"242.822266\" xlink:href=\"#DejaVuSans-48\"/>\r\n      </g>\r\n     </g>\r\n    </g>\r\n    <g id=\"xtick_2\">\r\n     <g id=\"line2d_2\">\r\n      <g>\r\n       <use style=\"stroke:#000000;stroke-width:0.8;\" x=\"89.077559\" xlink:href=\"#m7994b39b8f\" y=\"224.64\"/>\r\n      </g>\r\n     </g>\r\n     <g id=\"text_2\">\r\n      <!-- −0.75 -->\r\n      <g transform=\"translate(73.754903 239.238437)scale(0.1 -0.1)\">\r\n       <defs>\r\n        <path d=\"M 8.203125 72.90625 \r\nL 55.078125 72.90625 \r\nL 55.078125 68.703125 \r\nL 28.609375 0 \r\nL 18.3125 0 \r\nL 43.21875 64.59375 \r\nL 8.203125 64.59375 \r\nz\r\n\" id=\"DejaVuSans-55\"/>\r\n        <path d=\"M 10.796875 72.90625 \r\nL 49.515625 72.90625 \r\nL 49.515625 64.59375 \r\nL 19.828125 64.59375 \r\nL 19.828125 46.734375 \r\nQ 21.96875 47.46875 24.109375 47.828125 \r\nQ 26.265625 48.1875 28.421875 48.1875 \r\nQ 40.625 48.1875 47.75 41.5 \r\nQ 54.890625 34.8125 54.890625 23.390625 \r\nQ 54.890625 11.625 47.5625 5.09375 \r\nQ 40.234375 -1.421875 26.90625 -1.421875 \r\nQ 22.3125 -1.421875 17.546875 -0.640625 \r\nQ 12.796875 0.140625 7.71875 1.703125 \r\nL 7.71875 11.625 \r\nQ 12.109375 9.234375 16.796875 8.0625 \r\nQ 21.484375 6.890625 26.703125 6.890625 \r\nQ 35.15625 6.890625 40.078125 11.328125 \r\nQ 45.015625 15.765625 45.015625 23.390625 \r\nQ 45.015625 31 40.078125 35.4375 \r\nQ 35.15625 39.890625 26.703125 39.890625 \r\nQ 22.75 39.890625 18.8125 39.015625 \r\nQ 14.890625 38.140625 10.796875 36.28125 \r\nz\r\n\" id=\"DejaVuSans-53\"/>\r\n       </defs>\r\n       <use xlink:href=\"#DejaVuSans-8722\"/>\r\n       <use x=\"83.789062\" xlink:href=\"#DejaVuSans-48\"/>\r\n       <use x=\"147.412109\" xlink:href=\"#DejaVuSans-46\"/>\r\n       <use x=\"179.199219\" xlink:href=\"#DejaVuSans-55\"/>\r\n       <use x=\"242.822266\" xlink:href=\"#DejaVuSans-53\"/>\r\n      </g>\r\n     </g>\r\n    </g>\r\n    <g id=\"xtick_3\">\r\n     <g id=\"line2d_3\">\r\n      <g>\r\n       <use style=\"stroke:#000000;stroke-width:0.8;\" x=\"129.098023\" xlink:href=\"#m7994b39b8f\" y=\"224.64\"/>\r\n      </g>\r\n     </g>\r\n     <g id=\"text_3\">\r\n      <!-- −0.50 -->\r\n      <g transform=\"translate(113.775367 239.238437)scale(0.1 -0.1)\">\r\n       <use xlink:href=\"#DejaVuSans-8722\"/>\r\n       <use x=\"83.789062\" xlink:href=\"#DejaVuSans-48\"/>\r\n       <use x=\"147.412109\" xlink:href=\"#DejaVuSans-46\"/>\r\n       <use x=\"179.199219\" xlink:href=\"#DejaVuSans-53\"/>\r\n       <use x=\"242.822266\" xlink:href=\"#DejaVuSans-48\"/>\r\n      </g>\r\n     </g>\r\n    </g>\r\n    <g id=\"xtick_4\">\r\n     <g id=\"line2d_4\">\r\n      <g>\r\n       <use style=\"stroke:#000000;stroke-width:0.8;\" x=\"169.118488\" xlink:href=\"#m7994b39b8f\" y=\"224.64\"/>\r\n      </g>\r\n     </g>\r\n     <g id=\"text_4\">\r\n      <!-- −0.25 -->\r\n      <g transform=\"translate(153.795832 239.238437)scale(0.1 -0.1)\">\r\n       <defs>\r\n        <path d=\"M 19.1875 8.296875 \r\nL 53.609375 8.296875 \r\nL 53.609375 0 \r\nL 7.328125 0 \r\nL 7.328125 8.296875 \r\nQ 12.9375 14.109375 22.625 23.890625 \r\nQ 32.328125 33.6875 34.8125 36.53125 \r\nQ 39.546875 41.84375 41.421875 45.53125 \r\nQ 43.3125 49.21875 43.3125 52.78125 \r\nQ 43.3125 58.59375 39.234375 62.25 \r\nQ 35.15625 65.921875 28.609375 65.921875 \r\nQ 23.96875 65.921875 18.8125 64.3125 \r\nQ 13.671875 62.703125 7.8125 59.421875 \r\nL 7.8125 69.390625 \r\nQ 13.765625 71.78125 18.9375 73 \r\nQ 24.125 74.21875 28.421875 74.21875 \r\nQ 39.75 74.21875 46.484375 68.546875 \r\nQ 53.21875 62.890625 53.21875 53.421875 \r\nQ 53.21875 48.921875 51.53125 44.890625 \r\nQ 49.859375 40.875 45.40625 35.40625 \r\nQ 44.1875 33.984375 37.640625 27.21875 \r\nQ 31.109375 20.453125 19.1875 8.296875 \r\nz\r\n\" id=\"DejaVuSans-50\"/>\r\n       </defs>\r\n       <use xlink:href=\"#DejaVuSans-8722\"/>\r\n       <use x=\"83.789062\" xlink:href=\"#DejaVuSans-48\"/>\r\n       <use x=\"147.412109\" xlink:href=\"#DejaVuSans-46\"/>\r\n       <use x=\"179.199219\" xlink:href=\"#DejaVuSans-50\"/>\r\n       <use x=\"242.822266\" xlink:href=\"#DejaVuSans-53\"/>\r\n      </g>\r\n     </g>\r\n    </g>\r\n    <g id=\"xtick_5\">\r\n     <g id=\"line2d_5\">\r\n      <g>\r\n       <use style=\"stroke:#000000;stroke-width:0.8;\" x=\"209.138952\" xlink:href=\"#m7994b39b8f\" y=\"224.64\"/>\r\n      </g>\r\n     </g>\r\n     <g id=\"text_5\">\r\n      <!-- 0.00 -->\r\n      <g transform=\"translate(198.00614 239.238437)scale(0.1 -0.1)\">\r\n       <use xlink:href=\"#DejaVuSans-48\"/>\r\n       <use x=\"63.623047\" xlink:href=\"#DejaVuSans-46\"/>\r\n       <use x=\"95.410156\" xlink:href=\"#DejaVuSans-48\"/>\r\n       <use x=\"159.033203\" xlink:href=\"#DejaVuSans-48\"/>\r\n      </g>\r\n     </g>\r\n    </g>\r\n    <g id=\"xtick_6\">\r\n     <g id=\"line2d_6\">\r\n      <g>\r\n       <use style=\"stroke:#000000;stroke-width:0.8;\" x=\"249.159417\" xlink:href=\"#m7994b39b8f\" y=\"224.64\"/>\r\n      </g>\r\n     </g>\r\n     <g id=\"text_6\">\r\n      <!-- 0.25 -->\r\n      <g transform=\"translate(238.026604 239.238437)scale(0.1 -0.1)\">\r\n       <use xlink:href=\"#DejaVuSans-48\"/>\r\n       <use x=\"63.623047\" xlink:href=\"#DejaVuSans-46\"/>\r\n       <use x=\"95.410156\" xlink:href=\"#DejaVuSans-50\"/>\r\n       <use x=\"159.033203\" xlink:href=\"#DejaVuSans-53\"/>\r\n      </g>\r\n     </g>\r\n    </g>\r\n    <g id=\"xtick_7\">\r\n     <g id=\"line2d_7\">\r\n      <g>\r\n       <use style=\"stroke:#000000;stroke-width:0.8;\" x=\"289.179881\" xlink:href=\"#m7994b39b8f\" y=\"224.64\"/>\r\n      </g>\r\n     </g>\r\n     <g id=\"text_7\">\r\n      <!-- 0.50 -->\r\n      <g transform=\"translate(278.047069 239.238437)scale(0.1 -0.1)\">\r\n       <use xlink:href=\"#DejaVuSans-48\"/>\r\n       <use x=\"63.623047\" xlink:href=\"#DejaVuSans-46\"/>\r\n       <use x=\"95.410156\" xlink:href=\"#DejaVuSans-53\"/>\r\n       <use x=\"159.033203\" xlink:href=\"#DejaVuSans-48\"/>\r\n      </g>\r\n     </g>\r\n    </g>\r\n    <g id=\"xtick_8\">\r\n     <g id=\"line2d_8\">\r\n      <g>\r\n       <use style=\"stroke:#000000;stroke-width:0.8;\" x=\"329.200346\" xlink:href=\"#m7994b39b8f\" y=\"224.64\"/>\r\n      </g>\r\n     </g>\r\n     <g id=\"text_8\">\r\n      <!-- 0.75 -->\r\n      <g transform=\"translate(318.067533 239.238437)scale(0.1 -0.1)\">\r\n       <use xlink:href=\"#DejaVuSans-48\"/>\r\n       <use x=\"63.623047\" xlink:href=\"#DejaVuSans-46\"/>\r\n       <use x=\"95.410156\" xlink:href=\"#DejaVuSans-55\"/>\r\n       <use x=\"159.033203\" xlink:href=\"#DejaVuSans-53\"/>\r\n      </g>\r\n     </g>\r\n    </g>\r\n    <g id=\"xtick_9\">\r\n     <g id=\"line2d_9\">\r\n      <g>\r\n       <use style=\"stroke:#000000;stroke-width:0.8;\" x=\"369.22081\" xlink:href=\"#m7994b39b8f\" y=\"224.64\"/>\r\n      </g>\r\n     </g>\r\n     <g id=\"text_9\">\r\n      <!-- 1.00 -->\r\n      <g transform=\"translate(358.087998 239.238437)scale(0.1 -0.1)\">\r\n       <use xlink:href=\"#DejaVuSans-49\"/>\r\n       <use x=\"63.623047\" xlink:href=\"#DejaVuSans-46\"/>\r\n       <use x=\"95.410156\" xlink:href=\"#DejaVuSans-48\"/>\r\n       <use x=\"159.033203\" xlink:href=\"#DejaVuSans-48\"/>\r\n      </g>\r\n     </g>\r\n    </g>\r\n   </g>\r\n   <g id=\"matplotlib.axis_2\">\r\n    <g id=\"ytick_1\">\r\n     <g id=\"line2d_10\">\r\n      <defs>\r\n       <path d=\"M 0 0 \r\nL -3.5 0 \r\n\" id=\"mb4dbc9c2d0\" style=\"stroke:#000000;stroke-width:0.8;\"/>\r\n      </defs>\r\n      <g>\r\n       <use style=\"stroke:#000000;stroke-width:0.8;\" x=\"46.965625\" xlink:href=\"#mb4dbc9c2d0\" y=\"224.64\"/>\r\n      </g>\r\n     </g>\r\n     <g id=\"text_10\">\r\n      <!-- 0 -->\r\n      <g transform=\"translate(33.603125 228.439219)scale(0.1 -0.1)\">\r\n       <use xlink:href=\"#DejaVuSans-48\"/>\r\n      </g>\r\n     </g>\r\n    </g>\r\n    <g id=\"ytick_2\">\r\n     <g id=\"line2d_11\">\r\n      <g>\r\n       <use style=\"stroke:#000000;stroke-width:0.8;\" x=\"46.965625\" xlink:href=\"#mb4dbc9c2d0\" y=\"200.334165\"/>\r\n      </g>\r\n     </g>\r\n     <g id=\"text_11\">\r\n      <!-- 100 -->\r\n      <g transform=\"translate(20.878125 204.133384)scale(0.1 -0.1)\">\r\n       <use xlink:href=\"#DejaVuSans-49\"/>\r\n       <use x=\"63.623047\" xlink:href=\"#DejaVuSans-48\"/>\r\n       <use x=\"127.246094\" xlink:href=\"#DejaVuSans-48\"/>\r\n      </g>\r\n     </g>\r\n    </g>\r\n    <g id=\"ytick_3\">\r\n     <g id=\"line2d_12\">\r\n      <g>\r\n       <use style=\"stroke:#000000;stroke-width:0.8;\" x=\"46.965625\" xlink:href=\"#mb4dbc9c2d0\" y=\"176.02833\"/>\r\n      </g>\r\n     </g>\r\n     <g id=\"text_12\">\r\n      <!-- 200 -->\r\n      <g transform=\"translate(20.878125 179.827549)scale(0.1 -0.1)\">\r\n       <use xlink:href=\"#DejaVuSans-50\"/>\r\n       <use x=\"63.623047\" xlink:href=\"#DejaVuSans-48\"/>\r\n       <use x=\"127.246094\" xlink:href=\"#DejaVuSans-48\"/>\r\n      </g>\r\n     </g>\r\n    </g>\r\n    <g id=\"ytick_4\">\r\n     <g id=\"line2d_13\">\r\n      <g>\r\n       <use style=\"stroke:#000000;stroke-width:0.8;\" x=\"46.965625\" xlink:href=\"#mb4dbc9c2d0\" y=\"151.722495\"/>\r\n      </g>\r\n     </g>\r\n     <g id=\"text_13\">\r\n      <!-- 300 -->\r\n      <g transform=\"translate(20.878125 155.521714)scale(0.1 -0.1)\">\r\n       <defs>\r\n        <path d=\"M 40.578125 39.3125 \r\nQ 47.65625 37.796875 51.625 33 \r\nQ 55.609375 28.21875 55.609375 21.1875 \r\nQ 55.609375 10.40625 48.1875 4.484375 \r\nQ 40.765625 -1.421875 27.09375 -1.421875 \r\nQ 22.515625 -1.421875 17.65625 -0.515625 \r\nQ 12.796875 0.390625 7.625 2.203125 \r\nL 7.625 11.71875 \r\nQ 11.71875 9.328125 16.59375 8.109375 \r\nQ 21.484375 6.890625 26.8125 6.890625 \r\nQ 36.078125 6.890625 40.9375 10.546875 \r\nQ 45.796875 14.203125 45.796875 21.1875 \r\nQ 45.796875 27.640625 41.28125 31.265625 \r\nQ 36.765625 34.90625 28.71875 34.90625 \r\nL 20.21875 34.90625 \r\nL 20.21875 43.015625 \r\nL 29.109375 43.015625 \r\nQ 36.375 43.015625 40.234375 45.921875 \r\nQ 44.09375 48.828125 44.09375 54.296875 \r\nQ 44.09375 59.90625 40.109375 62.90625 \r\nQ 36.140625 65.921875 28.71875 65.921875 \r\nQ 24.65625 65.921875 20.015625 65.03125 \r\nQ 15.375 64.15625 9.8125 62.3125 \r\nL 9.8125 71.09375 \r\nQ 15.4375 72.65625 20.34375 73.4375 \r\nQ 25.25 74.21875 29.59375 74.21875 \r\nQ 40.828125 74.21875 47.359375 69.109375 \r\nQ 53.90625 64.015625 53.90625 55.328125 \r\nQ 53.90625 49.265625 50.4375 45.09375 \r\nQ 46.96875 40.921875 40.578125 39.3125 \r\nz\r\n\" id=\"DejaVuSans-51\"/>\r\n       </defs>\r\n       <use xlink:href=\"#DejaVuSans-51\"/>\r\n       <use x=\"63.623047\" xlink:href=\"#DejaVuSans-48\"/>\r\n       <use x=\"127.246094\" xlink:href=\"#DejaVuSans-48\"/>\r\n      </g>\r\n     </g>\r\n    </g>\r\n    <g id=\"ytick_5\">\r\n     <g id=\"line2d_14\">\r\n      <g>\r\n       <use style=\"stroke:#000000;stroke-width:0.8;\" x=\"46.965625\" xlink:href=\"#mb4dbc9c2d0\" y=\"127.41666\"/>\r\n      </g>\r\n     </g>\r\n     <g id=\"text_14\">\r\n      <!-- 400 -->\r\n      <g transform=\"translate(20.878125 131.215879)scale(0.1 -0.1)\">\r\n       <defs>\r\n        <path d=\"M 37.796875 64.3125 \r\nL 12.890625 25.390625 \r\nL 37.796875 25.390625 \r\nz\r\nM 35.203125 72.90625 \r\nL 47.609375 72.90625 \r\nL 47.609375 25.390625 \r\nL 58.015625 25.390625 \r\nL 58.015625 17.1875 \r\nL 47.609375 17.1875 \r\nL 47.609375 0 \r\nL 37.796875 0 \r\nL 37.796875 17.1875 \r\nL 4.890625 17.1875 \r\nL 4.890625 26.703125 \r\nz\r\n\" id=\"DejaVuSans-52\"/>\r\n       </defs>\r\n       <use xlink:href=\"#DejaVuSans-52\"/>\r\n       <use x=\"63.623047\" xlink:href=\"#DejaVuSans-48\"/>\r\n       <use x=\"127.246094\" xlink:href=\"#DejaVuSans-48\"/>\r\n      </g>\r\n     </g>\r\n    </g>\r\n    <g id=\"ytick_6\">\r\n     <g id=\"line2d_15\">\r\n      <g>\r\n       <use style=\"stroke:#000000;stroke-width:0.8;\" x=\"46.965625\" xlink:href=\"#mb4dbc9c2d0\" y=\"103.110825\"/>\r\n      </g>\r\n     </g>\r\n     <g id=\"text_15\">\r\n      <!-- 500 -->\r\n      <g transform=\"translate(20.878125 106.910044)scale(0.1 -0.1)\">\r\n       <use xlink:href=\"#DejaVuSans-53\"/>\r\n       <use x=\"63.623047\" xlink:href=\"#DejaVuSans-48\"/>\r\n       <use x=\"127.246094\" xlink:href=\"#DejaVuSans-48\"/>\r\n      </g>\r\n     </g>\r\n    </g>\r\n    <g id=\"ytick_7\">\r\n     <g id=\"line2d_16\">\r\n      <g>\r\n       <use style=\"stroke:#000000;stroke-width:0.8;\" x=\"46.965625\" xlink:href=\"#mb4dbc9c2d0\" y=\"78.80499\"/>\r\n      </g>\r\n     </g>\r\n     <g id=\"text_16\">\r\n      <!-- 600 -->\r\n      <g transform=\"translate(20.878125 82.604209)scale(0.1 -0.1)\">\r\n       <defs>\r\n        <path d=\"M 33.015625 40.375 \r\nQ 26.375 40.375 22.484375 35.828125 \r\nQ 18.609375 31.296875 18.609375 23.390625 \r\nQ 18.609375 15.53125 22.484375 10.953125 \r\nQ 26.375 6.390625 33.015625 6.390625 \r\nQ 39.65625 6.390625 43.53125 10.953125 \r\nQ 47.40625 15.53125 47.40625 23.390625 \r\nQ 47.40625 31.296875 43.53125 35.828125 \r\nQ 39.65625 40.375 33.015625 40.375 \r\nz\r\nM 52.59375 71.296875 \r\nL 52.59375 62.3125 \r\nQ 48.875 64.0625 45.09375 64.984375 \r\nQ 41.3125 65.921875 37.59375 65.921875 \r\nQ 27.828125 65.921875 22.671875 59.328125 \r\nQ 17.53125 52.734375 16.796875 39.40625 \r\nQ 19.671875 43.65625 24.015625 45.921875 \r\nQ 28.375 48.1875 33.59375 48.1875 \r\nQ 44.578125 48.1875 50.953125 41.515625 \r\nQ 57.328125 34.859375 57.328125 23.390625 \r\nQ 57.328125 12.15625 50.6875 5.359375 \r\nQ 44.046875 -1.421875 33.015625 -1.421875 \r\nQ 20.359375 -1.421875 13.671875 8.265625 \r\nQ 6.984375 17.96875 6.984375 36.375 \r\nQ 6.984375 53.65625 15.1875 63.9375 \r\nQ 23.390625 74.21875 37.203125 74.21875 \r\nQ 40.921875 74.21875 44.703125 73.484375 \r\nQ 48.484375 72.75 52.59375 71.296875 \r\nz\r\n\" id=\"DejaVuSans-54\"/>\r\n       </defs>\r\n       <use xlink:href=\"#DejaVuSans-54\"/>\r\n       <use x=\"63.623047\" xlink:href=\"#DejaVuSans-48\"/>\r\n       <use x=\"127.246094\" xlink:href=\"#DejaVuSans-48\"/>\r\n      </g>\r\n     </g>\r\n    </g>\r\n    <g id=\"ytick_8\">\r\n     <g id=\"line2d_17\">\r\n      <g>\r\n       <use style=\"stroke:#000000;stroke-width:0.8;\" x=\"46.965625\" xlink:href=\"#mb4dbc9c2d0\" y=\"54.499155\"/>\r\n      </g>\r\n     </g>\r\n     <g id=\"text_17\">\r\n      <!-- 700 -->\r\n      <g transform=\"translate(20.878125 58.298374)scale(0.1 -0.1)\">\r\n       <use xlink:href=\"#DejaVuSans-55\"/>\r\n       <use x=\"63.623047\" xlink:href=\"#DejaVuSans-48\"/>\r\n       <use x=\"127.246094\" xlink:href=\"#DejaVuSans-48\"/>\r\n      </g>\r\n     </g>\r\n    </g>\r\n    <g id=\"ytick_9\">\r\n     <g id=\"line2d_18\">\r\n      <g>\r\n       <use style=\"stroke:#000000;stroke-width:0.8;\" x=\"46.965625\" xlink:href=\"#mb4dbc9c2d0\" y=\"30.19332\"/>\r\n      </g>\r\n     </g>\r\n     <g id=\"text_18\">\r\n      <!-- 800 -->\r\n      <g transform=\"translate(20.878125 33.992539)scale(0.1 -0.1)\">\r\n       <defs>\r\n        <path d=\"M 31.78125 34.625 \r\nQ 24.75 34.625 20.71875 30.859375 \r\nQ 16.703125 27.09375 16.703125 20.515625 \r\nQ 16.703125 13.921875 20.71875 10.15625 \r\nQ 24.75 6.390625 31.78125 6.390625 \r\nQ 38.8125 6.390625 42.859375 10.171875 \r\nQ 46.921875 13.96875 46.921875 20.515625 \r\nQ 46.921875 27.09375 42.890625 30.859375 \r\nQ 38.875 34.625 31.78125 34.625 \r\nz\r\nM 21.921875 38.8125 \r\nQ 15.578125 40.375 12.03125 44.71875 \r\nQ 8.5 49.078125 8.5 55.328125 \r\nQ 8.5 64.0625 14.71875 69.140625 \r\nQ 20.953125 74.21875 31.78125 74.21875 \r\nQ 42.671875 74.21875 48.875 69.140625 \r\nQ 55.078125 64.0625 55.078125 55.328125 \r\nQ 55.078125 49.078125 51.53125 44.71875 \r\nQ 48 40.375 41.703125 38.8125 \r\nQ 48.828125 37.15625 52.796875 32.3125 \r\nQ 56.78125 27.484375 56.78125 20.515625 \r\nQ 56.78125 9.90625 50.3125 4.234375 \r\nQ 43.84375 -1.421875 31.78125 -1.421875 \r\nQ 19.734375 -1.421875 13.25 4.234375 \r\nQ 6.78125 9.90625 6.78125 20.515625 \r\nQ 6.78125 27.484375 10.78125 32.3125 \r\nQ 14.796875 37.15625 21.921875 38.8125 \r\nz\r\nM 18.3125 54.390625 \r\nQ 18.3125 48.734375 21.84375 45.5625 \r\nQ 25.390625 42.390625 31.78125 42.390625 \r\nQ 38.140625 42.390625 41.71875 45.5625 \r\nQ 45.3125 48.734375 45.3125 54.390625 \r\nQ 45.3125 60.0625 41.71875 63.234375 \r\nQ 38.140625 66.40625 31.78125 66.40625 \r\nQ 25.390625 66.40625 21.84375 63.234375 \r\nQ 18.3125 60.0625 18.3125 54.390625 \r\nz\r\n\" id=\"DejaVuSans-56\"/>\r\n       </defs>\r\n       <use xlink:href=\"#DejaVuSans-56\"/>\r\n       <use x=\"63.623047\" xlink:href=\"#DejaVuSans-48\"/>\r\n       <use x=\"127.246094\" xlink:href=\"#DejaVuSans-48\"/>\r\n      </g>\r\n     </g>\r\n    </g>\r\n    <g id=\"text_19\">\r\n     <!-- Frequency -->\r\n     <g transform=\"translate(14.798438 141.749687)rotate(-90)scale(0.1 -0.1)\">\r\n      <defs>\r\n       <path d=\"M 9.8125 72.90625 \r\nL 51.703125 72.90625 \r\nL 51.703125 64.59375 \r\nL 19.671875 64.59375 \r\nL 19.671875 43.109375 \r\nL 48.578125 43.109375 \r\nL 48.578125 34.8125 \r\nL 19.671875 34.8125 \r\nL 19.671875 0 \r\nL 9.8125 0 \r\nz\r\n\" id=\"DejaVuSans-70\"/>\r\n       <path d=\"M 41.109375 46.296875 \r\nQ 39.59375 47.171875 37.8125 47.578125 \r\nQ 36.03125 48 33.890625 48 \r\nQ 26.265625 48 22.1875 43.046875 \r\nQ 18.109375 38.09375 18.109375 28.8125 \r\nL 18.109375 0 \r\nL 9.078125 0 \r\nL 9.078125 54.6875 \r\nL 18.109375 54.6875 \r\nL 18.109375 46.1875 \r\nQ 20.953125 51.171875 25.484375 53.578125 \r\nQ 30.03125 56 36.53125 56 \r\nQ 37.453125 56 38.578125 55.875 \r\nQ 39.703125 55.765625 41.0625 55.515625 \r\nz\r\n\" id=\"DejaVuSans-114\"/>\r\n       <path d=\"M 56.203125 29.59375 \r\nL 56.203125 25.203125 \r\nL 14.890625 25.203125 \r\nQ 15.484375 15.921875 20.484375 11.0625 \r\nQ 25.484375 6.203125 34.421875 6.203125 \r\nQ 39.59375 6.203125 44.453125 7.46875 \r\nQ 49.3125 8.734375 54.109375 11.28125 \r\nL 54.109375 2.78125 \r\nQ 49.265625 0.734375 44.1875 -0.34375 \r\nQ 39.109375 -1.421875 33.890625 -1.421875 \r\nQ 20.796875 -1.421875 13.15625 6.1875 \r\nQ 5.515625 13.8125 5.515625 26.8125 \r\nQ 5.515625 40.234375 12.765625 48.109375 \r\nQ 20.015625 56 32.328125 56 \r\nQ 43.359375 56 49.78125 48.890625 \r\nQ 56.203125 41.796875 56.203125 29.59375 \r\nz\r\nM 47.21875 32.234375 \r\nQ 47.125 39.59375 43.09375 43.984375 \r\nQ 39.0625 48.390625 32.421875 48.390625 \r\nQ 24.90625 48.390625 20.390625 44.140625 \r\nQ 15.875 39.890625 15.1875 32.171875 \r\nz\r\n\" id=\"DejaVuSans-101\"/>\r\n       <path d=\"M 14.796875 27.296875 \r\nQ 14.796875 17.390625 18.875 11.75 \r\nQ 22.953125 6.109375 30.078125 6.109375 \r\nQ 37.203125 6.109375 41.296875 11.75 \r\nQ 45.40625 17.390625 45.40625 27.296875 \r\nQ 45.40625 37.203125 41.296875 42.84375 \r\nQ 37.203125 48.484375 30.078125 48.484375 \r\nQ 22.953125 48.484375 18.875 42.84375 \r\nQ 14.796875 37.203125 14.796875 27.296875 \r\nz\r\nM 45.40625 8.203125 \r\nQ 42.578125 3.328125 38.25 0.953125 \r\nQ 33.9375 -1.421875 27.875 -1.421875 \r\nQ 17.96875 -1.421875 11.734375 6.484375 \r\nQ 5.515625 14.40625 5.515625 27.296875 \r\nQ 5.515625 40.1875 11.734375 48.09375 \r\nQ 17.96875 56 27.875 56 \r\nQ 33.9375 56 38.25 53.625 \r\nQ 42.578125 51.265625 45.40625 46.390625 \r\nL 45.40625 54.6875 \r\nL 54.390625 54.6875 \r\nL 54.390625 -20.796875 \r\nL 45.40625 -20.796875 \r\nz\r\n\" id=\"DejaVuSans-113\"/>\r\n       <path d=\"M 8.5 21.578125 \r\nL 8.5 54.6875 \r\nL 17.484375 54.6875 \r\nL 17.484375 21.921875 \r\nQ 17.484375 14.15625 20.5 10.265625 \r\nQ 23.53125 6.390625 29.59375 6.390625 \r\nQ 36.859375 6.390625 41.078125 11.03125 \r\nQ 45.3125 15.671875 45.3125 23.6875 \r\nL 45.3125 54.6875 \r\nL 54.296875 54.6875 \r\nL 54.296875 0 \r\nL 45.3125 0 \r\nL 45.3125 8.40625 \r\nQ 42.046875 3.421875 37.71875 1 \r\nQ 33.40625 -1.421875 27.6875 -1.421875 \r\nQ 18.265625 -1.421875 13.375 4.4375 \r\nQ 8.5 10.296875 8.5 21.578125 \r\nz\r\nM 31.109375 56 \r\nz\r\n\" id=\"DejaVuSans-117\"/>\r\n       <path d=\"M 54.890625 33.015625 \r\nL 54.890625 0 \r\nL 45.90625 0 \r\nL 45.90625 32.71875 \r\nQ 45.90625 40.484375 42.875 44.328125 \r\nQ 39.84375 48.1875 33.796875 48.1875 \r\nQ 26.515625 48.1875 22.3125 43.546875 \r\nQ 18.109375 38.921875 18.109375 30.90625 \r\nL 18.109375 0 \r\nL 9.078125 0 \r\nL 9.078125 54.6875 \r\nL 18.109375 54.6875 \r\nL 18.109375 46.1875 \r\nQ 21.34375 51.125 25.703125 53.5625 \r\nQ 30.078125 56 35.796875 56 \r\nQ 45.21875 56 50.046875 50.171875 \r\nQ 54.890625 44.34375 54.890625 33.015625 \r\nz\r\n\" id=\"DejaVuSans-110\"/>\r\n       <path d=\"M 48.78125 52.59375 \r\nL 48.78125 44.1875 \r\nQ 44.96875 46.296875 41.140625 47.34375 \r\nQ 37.3125 48.390625 33.40625 48.390625 \r\nQ 24.65625 48.390625 19.8125 42.84375 \r\nQ 14.984375 37.3125 14.984375 27.296875 \r\nQ 14.984375 17.28125 19.8125 11.734375 \r\nQ 24.65625 6.203125 33.40625 6.203125 \r\nQ 37.3125 6.203125 41.140625 7.25 \r\nQ 44.96875 8.296875 48.78125 10.40625 \r\nL 48.78125 2.09375 \r\nQ 45.015625 0.34375 40.984375 -0.53125 \r\nQ 36.96875 -1.421875 32.421875 -1.421875 \r\nQ 20.0625 -1.421875 12.78125 6.34375 \r\nQ 5.515625 14.109375 5.515625 27.296875 \r\nQ 5.515625 40.671875 12.859375 48.328125 \r\nQ 20.21875 56 33.015625 56 \r\nQ 37.15625 56 41.109375 55.140625 \r\nQ 45.0625 54.296875 48.78125 52.59375 \r\nz\r\n\" id=\"DejaVuSans-99\"/>\r\n       <path d=\"M 32.171875 -5.078125 \r\nQ 28.375 -14.84375 24.75 -17.8125 \r\nQ 21.140625 -20.796875 15.09375 -20.796875 \r\nL 7.90625 -20.796875 \r\nL 7.90625 -13.28125 \r\nL 13.1875 -13.28125 \r\nQ 16.890625 -13.28125 18.9375 -11.515625 \r\nQ 21 -9.765625 23.484375 -3.21875 \r\nL 25.09375 0.875 \r\nL 2.984375 54.6875 \r\nL 12.5 54.6875 \r\nL 29.59375 11.921875 \r\nL 46.6875 54.6875 \r\nL 56.203125 54.6875 \r\nz\r\n\" id=\"DejaVuSans-121\"/>\r\n      </defs>\r\n      <use xlink:href=\"#DejaVuSans-70\"/>\r\n      <use x=\"50.269531\" xlink:href=\"#DejaVuSans-114\"/>\r\n      <use x=\"89.132812\" xlink:href=\"#DejaVuSans-101\"/>\r\n      <use x=\"150.65625\" xlink:href=\"#DejaVuSans-113\"/>\r\n      <use x=\"214.132812\" xlink:href=\"#DejaVuSans-117\"/>\r\n      <use x=\"277.511719\" xlink:href=\"#DejaVuSans-101\"/>\r\n      <use x=\"339.035156\" xlink:href=\"#DejaVuSans-110\"/>\r\n      <use x=\"402.414062\" xlink:href=\"#DejaVuSans-99\"/>\r\n      <use x=\"457.394531\" xlink:href=\"#DejaVuSans-121\"/>\r\n     </g>\r\n    </g>\r\n   </g>\r\n   <g id=\"patch_13\">\r\n    <path d=\"M 46.965625 224.64 \r\nL 46.965625 7.2 \r\n\" style=\"fill:none;stroke:#000000;stroke-linecap:square;stroke-linejoin:miter;stroke-width:0.8;\"/>\r\n   </g>\r\n   <g id=\"patch_14\">\r\n    <path d=\"M 381.765625 224.64 \r\nL 381.765625 7.2 \r\n\" style=\"fill:none;stroke:#000000;stroke-linecap:square;stroke-linejoin:miter;stroke-width:0.8;\"/>\r\n   </g>\r\n   <g id=\"patch_15\">\r\n    <path d=\"M 46.965625 224.64 \r\nL 381.765625 224.64 \r\n\" style=\"fill:none;stroke:#000000;stroke-linecap:square;stroke-linejoin:miter;stroke-width:0.8;\"/>\r\n   </g>\r\n   <g id=\"patch_16\">\r\n    <path d=\"M 46.965625 7.2 \r\nL 381.765625 7.2 \r\n\" style=\"fill:none;stroke:#000000;stroke-linecap:square;stroke-linejoin:miter;stroke-width:0.8;\"/>\r\n   </g>\r\n  </g>\r\n </g>\r\n <defs>\r\n  <clipPath id=\"p8d6b4d513e\">\r\n   <rect height=\"217.44\" width=\"334.8\" x=\"46.965625\" y=\"7.2\"/>\r\n  </clipPath>\r\n </defs>\r\n</svg>\r\n",
      "image/png": "[encoded data removed]"
     },
     "metadata": {
      "needs_background": "light"
     }
    }
   ],
   "source": [
    "sentiment_df[\"user-description-sentiment-compound\"].plot.hist()"
   ]
  },
  {
   "cell_type": "code",
   "execution_count": 52,
   "metadata": {},
   "outputs": [],
   "source": [
    "final_df = process.sentiment_class(sentiment_df)"
   ]
  },
  {
   "cell_type": "code",
   "execution_count": 67,
   "metadata": {},
   "outputs": [
    {
     "output_type": "execute_result",
     "data": {
      "text/plain": [
       "0.2325"
      ]
     },
     "metadata": {},
     "execution_count": 67
    }
   ],
   "source": [
    "sum(final_df[\"user-description-contains_trump\"].isnull())/len(final_df)"
   ]
  },
  {
   "cell_type": "code",
   "execution_count": 72,
   "metadata": {},
   "outputs": [
    {
     "output_type": "execute_result",
     "data": {
      "text/plain": [
       "0.563125"
      ]
     },
     "metadata": {},
     "execution_count": 72
    }
   ],
   "source": [
    "sum(~final_df[\"user-location\"].isnull())/len(final_df)"
   ]
  },
  {
   "source": [
    "### b. Clustering <a name=\"cluster\"></a>"
   ],
   "cell_type": "markdown",
   "metadata": {}
  },
  {
   "source": [
    "## 3) Visualisation <a name=\"visu\"></a>"
   ],
   "cell_type": "markdown",
   "metadata": {}
  },
  {
   "source": [
    "### a. Nuages de mots <a name=\"cloud\"></a>"
   ],
   "cell_type": "markdown",
   "metadata": {}
  },
  {
   "source": [
    "### b. Carte interactive <a name=\"map\"></a>"
   ],
   "cell_type": "markdown",
   "metadata": {}
  },
  {
   "source": [
    "## Conclusion <a name=\"conc\"></a>"
   ],
   "cell_type": "markdown",
   "metadata": {}
  },
  {
   "source": [
    "## Annexes <a name=\"annex\"></a>"
   ],
   "cell_type": "markdown",
   "metadata": {}
  }
 ]
}